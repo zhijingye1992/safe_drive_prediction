{
 "cells": [
  {
   "cell_type": "markdown",
   "metadata": {},
   "source": [
    "# Background"
   ]
  },
  {
   "cell_type": "markdown",
   "metadata": {},
   "source": [
    "In the train.csv (and test.csv) data, features that belong to similar groupings are tagged as such in the feature names (e.g., ind, reg, car, calc). In addition, feature names include the postfix bin to indicate binary features and cat to indicate categorical features. Features without these designations are either continuous or ordinal. Values of -1 indicate that the feature was missing from the observation. The target columns signifies whether or not a claim was filed for that policy holder."
   ]
  },
  {
   "cell_type": "code",
   "execution_count": 142,
   "metadata": {
    "ExecuteTime": {
     "end_time": "2018-09-18T03:39:25.326355Z",
     "start_time": "2018-09-18T03:39:24.557939Z"
    },
    "collapsed": true
   },
   "outputs": [],
   "source": [
    "import pandas as pd\n",
    "import numpy as np"
   ]
  },
  {
   "cell_type": "markdown",
   "metadata": {},
   "source": [
    "# Read data"
   ]
  },
  {
   "cell_type": "code",
   "execution_count": 143,
   "metadata": {
    "ExecuteTime": {
     "end_time": "2018-09-18T03:39:30.936159Z",
     "start_time": "2018-09-18T03:39:25.328795Z"
    }
   },
   "outputs": [],
   "source": [
    "df = pd.read_csv('data/train.csv',index_col=False)"
   ]
  },
  {
   "cell_type": "code",
   "execution_count": 144,
   "metadata": {
    "ExecuteTime": {
     "end_time": "2018-09-18T03:39:30.954523Z",
     "start_time": "2018-09-18T03:39:30.938244Z"
    }
   },
   "outputs": [
    {
     "data": {
      "text/plain": [
       "(595212, 59)"
      ]
     },
     "execution_count": 144,
     "metadata": {},
     "output_type": "execute_result"
    }
   ],
   "source": [
    "df.shape"
   ]
  },
  {
   "cell_type": "code",
   "execution_count": 5,
   "metadata": {
    "ExecuteTime": {
     "end_time": "2018-09-18T03:39:30.994469Z",
     "start_time": "2018-09-18T03:39:30.958337Z"
    }
   },
   "outputs": [
    {
     "data": {
      "text/html": [
       "<div>\n",
       "<style scoped>\n",
       "    .dataframe tbody tr th:only-of-type {\n",
       "        vertical-align: middle;\n",
       "    }\n",
       "\n",
       "    .dataframe tbody tr th {\n",
       "        vertical-align: top;\n",
       "    }\n",
       "\n",
       "    .dataframe thead th {\n",
       "        text-align: right;\n",
       "    }\n",
       "</style>\n",
       "<table border=\"1\" class=\"dataframe\">\n",
       "  <thead>\n",
       "    <tr style=\"text-align: right;\">\n",
       "      <th></th>\n",
       "      <th>id</th>\n",
       "      <th>target</th>\n",
       "      <th>ps_ind_01</th>\n",
       "      <th>ps_ind_02_cat</th>\n",
       "      <th>ps_ind_03</th>\n",
       "      <th>ps_ind_04_cat</th>\n",
       "      <th>ps_ind_05_cat</th>\n",
       "      <th>ps_ind_06_bin</th>\n",
       "      <th>ps_ind_07_bin</th>\n",
       "      <th>ps_ind_08_bin</th>\n",
       "      <th>...</th>\n",
       "      <th>ps_calc_11</th>\n",
       "      <th>ps_calc_12</th>\n",
       "      <th>ps_calc_13</th>\n",
       "      <th>ps_calc_14</th>\n",
       "      <th>ps_calc_15_bin</th>\n",
       "      <th>ps_calc_16_bin</th>\n",
       "      <th>ps_calc_17_bin</th>\n",
       "      <th>ps_calc_18_bin</th>\n",
       "      <th>ps_calc_19_bin</th>\n",
       "      <th>ps_calc_20_bin</th>\n",
       "    </tr>\n",
       "  </thead>\n",
       "  <tbody>\n",
       "    <tr>\n",
       "      <th>0</th>\n",
       "      <td>7</td>\n",
       "      <td>0</td>\n",
       "      <td>2</td>\n",
       "      <td>2</td>\n",
       "      <td>5</td>\n",
       "      <td>1</td>\n",
       "      <td>0</td>\n",
       "      <td>0</td>\n",
       "      <td>1</td>\n",
       "      <td>0</td>\n",
       "      <td>...</td>\n",
       "      <td>9</td>\n",
       "      <td>1</td>\n",
       "      <td>5</td>\n",
       "      <td>8</td>\n",
       "      <td>0</td>\n",
       "      <td>1</td>\n",
       "      <td>1</td>\n",
       "      <td>0</td>\n",
       "      <td>0</td>\n",
       "      <td>1</td>\n",
       "    </tr>\n",
       "    <tr>\n",
       "      <th>1</th>\n",
       "      <td>9</td>\n",
       "      <td>0</td>\n",
       "      <td>1</td>\n",
       "      <td>1</td>\n",
       "      <td>7</td>\n",
       "      <td>0</td>\n",
       "      <td>0</td>\n",
       "      <td>0</td>\n",
       "      <td>0</td>\n",
       "      <td>1</td>\n",
       "      <td>...</td>\n",
       "      <td>3</td>\n",
       "      <td>1</td>\n",
       "      <td>1</td>\n",
       "      <td>9</td>\n",
       "      <td>0</td>\n",
       "      <td>1</td>\n",
       "      <td>1</td>\n",
       "      <td>0</td>\n",
       "      <td>1</td>\n",
       "      <td>0</td>\n",
       "    </tr>\n",
       "    <tr>\n",
       "      <th>2</th>\n",
       "      <td>13</td>\n",
       "      <td>0</td>\n",
       "      <td>5</td>\n",
       "      <td>4</td>\n",
       "      <td>9</td>\n",
       "      <td>1</td>\n",
       "      <td>0</td>\n",
       "      <td>0</td>\n",
       "      <td>0</td>\n",
       "      <td>1</td>\n",
       "      <td>...</td>\n",
       "      <td>4</td>\n",
       "      <td>2</td>\n",
       "      <td>7</td>\n",
       "      <td>7</td>\n",
       "      <td>0</td>\n",
       "      <td>1</td>\n",
       "      <td>1</td>\n",
       "      <td>0</td>\n",
       "      <td>1</td>\n",
       "      <td>0</td>\n",
       "    </tr>\n",
       "    <tr>\n",
       "      <th>3</th>\n",
       "      <td>16</td>\n",
       "      <td>0</td>\n",
       "      <td>0</td>\n",
       "      <td>1</td>\n",
       "      <td>2</td>\n",
       "      <td>0</td>\n",
       "      <td>0</td>\n",
       "      <td>1</td>\n",
       "      <td>0</td>\n",
       "      <td>0</td>\n",
       "      <td>...</td>\n",
       "      <td>2</td>\n",
       "      <td>2</td>\n",
       "      <td>4</td>\n",
       "      <td>9</td>\n",
       "      <td>0</td>\n",
       "      <td>0</td>\n",
       "      <td>0</td>\n",
       "      <td>0</td>\n",
       "      <td>0</td>\n",
       "      <td>0</td>\n",
       "    </tr>\n",
       "    <tr>\n",
       "      <th>4</th>\n",
       "      <td>17</td>\n",
       "      <td>0</td>\n",
       "      <td>0</td>\n",
       "      <td>2</td>\n",
       "      <td>0</td>\n",
       "      <td>1</td>\n",
       "      <td>0</td>\n",
       "      <td>1</td>\n",
       "      <td>0</td>\n",
       "      <td>0</td>\n",
       "      <td>...</td>\n",
       "      <td>3</td>\n",
       "      <td>1</td>\n",
       "      <td>1</td>\n",
       "      <td>3</td>\n",
       "      <td>0</td>\n",
       "      <td>0</td>\n",
       "      <td>0</td>\n",
       "      <td>1</td>\n",
       "      <td>1</td>\n",
       "      <td>0</td>\n",
       "    </tr>\n",
       "  </tbody>\n",
       "</table>\n",
       "<p>5 rows × 59 columns</p>\n",
       "</div>"
      ],
      "text/plain": [
       "   id  target  ps_ind_01  ps_ind_02_cat  ps_ind_03  ps_ind_04_cat  \\\n",
       "0   7       0          2              2          5              1   \n",
       "1   9       0          1              1          7              0   \n",
       "2  13       0          5              4          9              1   \n",
       "3  16       0          0              1          2              0   \n",
       "4  17       0          0              2          0              1   \n",
       "\n",
       "   ps_ind_05_cat  ps_ind_06_bin  ps_ind_07_bin  ps_ind_08_bin       ...        \\\n",
       "0              0              0              1              0       ...         \n",
       "1              0              0              0              1       ...         \n",
       "2              0              0              0              1       ...         \n",
       "3              0              1              0              0       ...         \n",
       "4              0              1              0              0       ...         \n",
       "\n",
       "   ps_calc_11  ps_calc_12  ps_calc_13  ps_calc_14  ps_calc_15_bin  \\\n",
       "0           9           1           5           8               0   \n",
       "1           3           1           1           9               0   \n",
       "2           4           2           7           7               0   \n",
       "3           2           2           4           9               0   \n",
       "4           3           1           1           3               0   \n",
       "\n",
       "   ps_calc_16_bin  ps_calc_17_bin  ps_calc_18_bin  ps_calc_19_bin  \\\n",
       "0               1               1               0               0   \n",
       "1               1               1               0               1   \n",
       "2               1               1               0               1   \n",
       "3               0               0               0               0   \n",
       "4               0               0               1               1   \n",
       "\n",
       "   ps_calc_20_bin  \n",
       "0               1  \n",
       "1               0  \n",
       "2               0  \n",
       "3               0  \n",
       "4               0  \n",
       "\n",
       "[5 rows x 59 columns]"
      ]
     },
     "execution_count": 5,
     "metadata": {},
     "output_type": "execute_result"
    }
   ],
   "source": [
    "df.head()"
   ]
  },
  {
   "cell_type": "code",
   "execution_count": 6,
   "metadata": {
    "ExecuteTime": {
     "end_time": "2018-09-18T03:39:31.095382Z",
     "start_time": "2018-09-18T03:39:30.997606Z"
    }
   },
   "outputs": [
    {
     "data": {
      "text/html": [
       "<div>\n",
       "<style scoped>\n",
       "    .dataframe tbody tr th:only-of-type {\n",
       "        vertical-align: middle;\n",
       "    }\n",
       "\n",
       "    .dataframe tbody tr th {\n",
       "        vertical-align: top;\n",
       "    }\n",
       "\n",
       "    .dataframe thead th {\n",
       "        text-align: right;\n",
       "    }\n",
       "</style>\n",
       "<table border=\"1\" class=\"dataframe\">\n",
       "  <thead>\n",
       "    <tr style=\"text-align: right;\">\n",
       "      <th></th>\n",
       "      <th>id</th>\n",
       "      <th>target</th>\n",
       "      <th>ps_ind_01</th>\n",
       "      <th>ps_ind_02_cat</th>\n",
       "      <th>ps_ind_03</th>\n",
       "      <th>ps_ind_04_cat</th>\n",
       "      <th>ps_ind_05_cat</th>\n",
       "      <th>ps_ind_06_bin</th>\n",
       "      <th>ps_ind_07_bin</th>\n",
       "      <th>ps_ind_08_bin</th>\n",
       "      <th>...</th>\n",
       "      <th>ps_calc_11</th>\n",
       "      <th>ps_calc_12</th>\n",
       "      <th>ps_calc_13</th>\n",
       "      <th>ps_calc_14</th>\n",
       "      <th>ps_calc_15_bin</th>\n",
       "      <th>ps_calc_16_bin</th>\n",
       "      <th>ps_calc_17_bin</th>\n",
       "      <th>ps_calc_18_bin</th>\n",
       "      <th>ps_calc_19_bin</th>\n",
       "      <th>ps_calc_20_bin</th>\n",
       "    </tr>\n",
       "  </thead>\n",
       "  <tbody>\n",
       "    <tr>\n",
       "      <th>9</th>\n",
       "      <td>28</td>\n",
       "      <td>1</td>\n",
       "      <td>1</td>\n",
       "      <td>1</td>\n",
       "      <td>2</td>\n",
       "      <td>0</td>\n",
       "      <td>0</td>\n",
       "      <td>0</td>\n",
       "      <td>1</td>\n",
       "      <td>0</td>\n",
       "      <td>...</td>\n",
       "      <td>3</td>\n",
       "      <td>5</td>\n",
       "      <td>0</td>\n",
       "      <td>6</td>\n",
       "      <td>0</td>\n",
       "      <td>1</td>\n",
       "      <td>0</td>\n",
       "      <td>0</td>\n",
       "      <td>1</td>\n",
       "      <td>0</td>\n",
       "    </tr>\n",
       "    <tr>\n",
       "      <th>19</th>\n",
       "      <td>64</td>\n",
       "      <td>1</td>\n",
       "      <td>0</td>\n",
       "      <td>1</td>\n",
       "      <td>2</td>\n",
       "      <td>1</td>\n",
       "      <td>0</td>\n",
       "      <td>1</td>\n",
       "      <td>0</td>\n",
       "      <td>0</td>\n",
       "      <td>...</td>\n",
       "      <td>10</td>\n",
       "      <td>3</td>\n",
       "      <td>1</td>\n",
       "      <td>11</td>\n",
       "      <td>0</td>\n",
       "      <td>1</td>\n",
       "      <td>1</td>\n",
       "      <td>0</td>\n",
       "      <td>1</td>\n",
       "      <td>0</td>\n",
       "    </tr>\n",
       "    <tr>\n",
       "      <th>28</th>\n",
       "      <td>84</td>\n",
       "      <td>1</td>\n",
       "      <td>0</td>\n",
       "      <td>2</td>\n",
       "      <td>0</td>\n",
       "      <td>1</td>\n",
       "      <td>4</td>\n",
       "      <td>1</td>\n",
       "      <td>0</td>\n",
       "      <td>0</td>\n",
       "      <td>...</td>\n",
       "      <td>3</td>\n",
       "      <td>2</td>\n",
       "      <td>0</td>\n",
       "      <td>8</td>\n",
       "      <td>0</td>\n",
       "      <td>1</td>\n",
       "      <td>1</td>\n",
       "      <td>0</td>\n",
       "      <td>0</td>\n",
       "      <td>0</td>\n",
       "    </tr>\n",
       "    <tr>\n",
       "      <th>39</th>\n",
       "      <td>107</td>\n",
       "      <td>1</td>\n",
       "      <td>2</td>\n",
       "      <td>1</td>\n",
       "      <td>3</td>\n",
       "      <td>1</td>\n",
       "      <td>0</td>\n",
       "      <td>0</td>\n",
       "      <td>0</td>\n",
       "      <td>1</td>\n",
       "      <td>...</td>\n",
       "      <td>6</td>\n",
       "      <td>0</td>\n",
       "      <td>8</td>\n",
       "      <td>14</td>\n",
       "      <td>0</td>\n",
       "      <td>1</td>\n",
       "      <td>0</td>\n",
       "      <td>1</td>\n",
       "      <td>0</td>\n",
       "      <td>0</td>\n",
       "    </tr>\n",
       "    <tr>\n",
       "      <th>41</th>\n",
       "      <td>110</td>\n",
       "      <td>1</td>\n",
       "      <td>5</td>\n",
       "      <td>2</td>\n",
       "      <td>1</td>\n",
       "      <td>0</td>\n",
       "      <td>0</td>\n",
       "      <td>0</td>\n",
       "      <td>0</td>\n",
       "      <td>1</td>\n",
       "      <td>...</td>\n",
       "      <td>5</td>\n",
       "      <td>2</td>\n",
       "      <td>0</td>\n",
       "      <td>7</td>\n",
       "      <td>1</td>\n",
       "      <td>1</td>\n",
       "      <td>0</td>\n",
       "      <td>0</td>\n",
       "      <td>0</td>\n",
       "      <td>0</td>\n",
       "    </tr>\n",
       "  </tbody>\n",
       "</table>\n",
       "<p>5 rows × 59 columns</p>\n",
       "</div>"
      ],
      "text/plain": [
       "     id  target  ps_ind_01  ps_ind_02_cat  ps_ind_03  ps_ind_04_cat  \\\n",
       "9    28       1          1              1          2              0   \n",
       "19   64       1          0              1          2              1   \n",
       "28   84       1          0              2          0              1   \n",
       "39  107       1          2              1          3              1   \n",
       "41  110       1          5              2          1              0   \n",
       "\n",
       "    ps_ind_05_cat  ps_ind_06_bin  ps_ind_07_bin  ps_ind_08_bin  \\\n",
       "9               0              0              1              0   \n",
       "19              0              1              0              0   \n",
       "28              4              1              0              0   \n",
       "39              0              0              0              1   \n",
       "41              0              0              0              1   \n",
       "\n",
       "         ...        ps_calc_11  ps_calc_12  ps_calc_13  ps_calc_14  \\\n",
       "9        ...                 3           5           0           6   \n",
       "19       ...                10           3           1          11   \n",
       "28       ...                 3           2           0           8   \n",
       "39       ...                 6           0           8          14   \n",
       "41       ...                 5           2           0           7   \n",
       "\n",
       "    ps_calc_15_bin  ps_calc_16_bin  ps_calc_17_bin  ps_calc_18_bin  \\\n",
       "9                0               1               0               0   \n",
       "19               0               1               1               0   \n",
       "28               0               1               1               0   \n",
       "39               0               1               0               1   \n",
       "41               1               1               0               0   \n",
       "\n",
       "    ps_calc_19_bin  ps_calc_20_bin  \n",
       "9                1               0  \n",
       "19               1               0  \n",
       "28               0               0  \n",
       "39               0               0  \n",
       "41               0               0  \n",
       "\n",
       "[5 rows x 59 columns]"
      ]
     },
     "execution_count": 6,
     "metadata": {},
     "output_type": "execute_result"
    }
   ],
   "source": [
    "df.loc[df.target == 1].head()"
   ]
  },
  {
   "cell_type": "markdown",
   "metadata": {},
   "source": [
    "## Q1: How many explanatory features are there in the training data (train.csv)? Could id be considered as an explanatory feature and why? "
   ]
  },
  {
   "cell_type": "markdown",
   "metadata": {},
   "source": [
    "### Answer \n",
    "1. There are 57 explanatory features here, if we do not include the label -- 'target'. \n",
    "\n",
    "2. And 'id' cannot be considered as an explanatory feature in this case, since it is only the index column for the dataset. There is no meaning for this column.\n",
    "\n",
    "Below are codes to explain the answer above."
   ]
  },
  {
   "cell_type": "code",
   "execution_count": null,
   "metadata": {
    "ExecuteTime": {
     "end_time": "2018-09-18T02:37:54.680188Z",
     "start_time": "2018-09-18T02:37:52.692683Z"
    },
    "collapsed": true
   },
   "outputs": [],
   "source": [
    "df.info()"
   ]
  },
  {
   "cell_type": "markdown",
   "metadata": {},
   "source": [
    "## Q2: Among the explanatory features in train.csv, how many are nominal (i.e., binary or categorical)? Please list all nominal features respectively. For each of them, please provide the count of each category."
   ]
  },
  {
   "cell_type": "markdown",
   "metadata": {},
   "source": [
    "### Answer \n",
    "1. There are 31 nominal data (binary and categorical), as can be shown in col_Q2 list.\n",
    "\n",
    "2. For each of them, the count of each category is in Q2."
   ]
  },
  {
   "cell_type": "code",
   "execution_count": 7,
   "metadata": {
    "ExecuteTime": {
     "end_time": "2018-09-18T03:39:36.793237Z",
     "start_time": "2018-09-18T03:39:36.789089Z"
    },
    "collapsed": true
   },
   "outputs": [],
   "source": [
    "col_Q2 = df.columns[[v[-3:] in 'cat and bin' for v in df.columns]]"
   ]
  },
  {
   "cell_type": "code",
   "execution_count": 8,
   "metadata": {
    "ExecuteTime": {
     "end_time": "2018-09-18T03:39:37.064860Z",
     "start_time": "2018-09-18T03:39:37.059682Z"
    }
   },
   "outputs": [
    {
     "data": {
      "text/plain": [
       "Index(['ps_ind_02_cat', 'ps_ind_04_cat', 'ps_ind_05_cat', 'ps_ind_06_bin',\n",
       "       'ps_ind_07_bin', 'ps_ind_08_bin', 'ps_ind_09_bin', 'ps_ind_10_bin',\n",
       "       'ps_ind_11_bin', 'ps_ind_12_bin', 'ps_ind_13_bin', 'ps_ind_16_bin',\n",
       "       'ps_ind_17_bin', 'ps_ind_18_bin', 'ps_car_01_cat', 'ps_car_02_cat',\n",
       "       'ps_car_03_cat', 'ps_car_04_cat', 'ps_car_05_cat', 'ps_car_06_cat',\n",
       "       'ps_car_07_cat', 'ps_car_08_cat', 'ps_car_09_cat', 'ps_car_10_cat',\n",
       "       'ps_car_11_cat', 'ps_calc_15_bin', 'ps_calc_16_bin', 'ps_calc_17_bin',\n",
       "       'ps_calc_18_bin', 'ps_calc_19_bin', 'ps_calc_20_bin'],\n",
       "      dtype='object')"
      ]
     },
     "execution_count": 8,
     "metadata": {},
     "output_type": "execute_result"
    }
   ],
   "source": [
    "col_Q2"
   ]
  },
  {
   "cell_type": "code",
   "execution_count": 249,
   "metadata": {
    "ExecuteTime": {
     "end_time": "2018-09-20T04:03:42.112937Z",
     "start_time": "2018-09-20T04:03:42.107916Z"
    }
   },
   "outputs": [
    {
     "data": {
      "text/plain": [
       "(31,)"
      ]
     },
     "execution_count": 249,
     "metadata": {},
     "output_type": "execute_result"
    }
   ],
   "source": [
    "col_Q2.shape"
   ]
  },
  {
   "cell_type": "code",
   "execution_count": 9,
   "metadata": {
    "ExecuteTime": {
     "end_time": "2018-09-18T03:39:38.469219Z",
     "start_time": "2018-09-18T03:39:38.084864Z"
    },
    "collapsed": true
   },
   "outputs": [],
   "source": [
    "Q2 = [df[col].value_counts() for col in df[col_Q2]]"
   ]
  },
  {
   "cell_type": "code",
   "execution_count": 10,
   "metadata": {
    "ExecuteTime": {
     "end_time": "2018-09-18T03:39:38.490264Z",
     "start_time": "2018-09-18T03:39:38.472068Z"
    }
   },
   "outputs": [
    {
     "data": {
      "text/plain": [
       "[ 1    431859\n",
       "  2    123573\n",
       "  3     28186\n",
       "  4     11378\n",
       " -1       216\n",
       " Name: ps_ind_02_cat, dtype: int64,  0    346965\n",
       "  1    248164\n",
       " -1        83\n",
       " Name: ps_ind_04_cat, dtype: int64,  0    528009\n",
       "  6     20662\n",
       "  4     18344\n",
       "  1      8322\n",
       "  3      8233\n",
       " -1      5809\n",
       "  2      4184\n",
       "  5      1649\n",
       " Name: ps_ind_05_cat, dtype: int64, 0    360852\n",
       " 1    234360\n",
       " Name: ps_ind_06_bin, dtype: int64, 0    442223\n",
       " 1    152989\n",
       " Name: ps_ind_07_bin, dtype: int64, 0    497644\n",
       " 1     97568\n",
       " Name: ps_ind_08_bin, dtype: int64, 0    484917\n",
       " 1    110295\n",
       " Name: ps_ind_09_bin, dtype: int64, 0    594990\n",
       " 1       222\n",
       " Name: ps_ind_10_bin, dtype: int64, 0    594205\n",
       " 1      1007\n",
       " Name: ps_ind_11_bin, dtype: int64, 0    589594\n",
       " 1      5618\n",
       " Name: ps_ind_12_bin, dtype: int64, 0    594648\n",
       " 1       564\n",
       " Name: ps_ind_13_bin, dtype: int64, 1    393330\n",
       " 0    201882\n",
       " Name: ps_ind_16_bin, dtype: int64, 0    523143\n",
       " 1     72069\n",
       " Name: ps_ind_17_bin, dtype: int64, 0    503879\n",
       " 1     91333\n",
       " Name: ps_ind_18_bin, dtype: int64,  11    207573\n",
       "  7     179247\n",
       "  6      62393\n",
       "  10     50087\n",
       "  4      26174\n",
       "  9      20323\n",
       "  5      18142\n",
       "  8      15093\n",
       "  3       6658\n",
       "  0       5904\n",
       "  2       2144\n",
       "  1       1367\n",
       " -1        107\n",
       " Name: ps_car_01_cat, dtype: int64,  1    493990\n",
       "  0    101217\n",
       " -1         5\n",
       " Name: ps_car_02_cat, dtype: int64, -1    411231\n",
       "  1    110709\n",
       "  0     73272\n",
       " Name: ps_car_03_cat, dtype: int64, 0    496581\n",
       " 1     32115\n",
       " 2     23770\n",
       " 8     20598\n",
       " 9     19034\n",
       " 6      1560\n",
       " 3       640\n",
       " 5       545\n",
       " 4       230\n",
       " 7       139\n",
       " Name: ps_car_04_cat, dtype: int64, -1    266551\n",
       "  1    172667\n",
       "  0    155994\n",
       " Name: ps_car_05_cat, dtype: int64, 11    131527\n",
       " 1     118386\n",
       " 0     110420\n",
       " 14     59253\n",
       " 10     33466\n",
       " 4      31136\n",
       " 15     21732\n",
       " 6      20951\n",
       " 9      17617\n",
       " 7      16158\n",
       " 3      11997\n",
       " 13      6246\n",
       " 17      4935\n",
       " 16      4582\n",
       " 12      2386\n",
       " 2       1607\n",
       " 8       1412\n",
       " 5       1401\n",
       " Name: ps_car_06_cat, dtype: int64,  1    553148\n",
       "  0     30575\n",
       " -1     11489\n",
       " Name: ps_car_07_cat, dtype: int64, 1    495264\n",
       " 0     99948\n",
       " Name: ps_car_08_cat, dtype: int64,  2    353482\n",
       "  0    194518\n",
       "  1     29080\n",
       "  3     14756\n",
       "  4      2807\n",
       " -1       569\n",
       " Name: ps_car_09_cat, dtype: int64, 1    590179\n",
       " 0      4857\n",
       " 2       176\n",
       " Name: ps_car_10_cat, dtype: int64, 104    85083\n",
       " 103    24262\n",
       " 64     22278\n",
       " 87     17106\n",
       " 32     12578\n",
       " 28     12538\n",
       " 5      12513\n",
       " 99     12042\n",
       " 65     10905\n",
       " 82     10470\n",
       " 83      9510\n",
       " 38      9246\n",
       " 10      8732\n",
       " 68      8388\n",
       " 22      8371\n",
       " 60      7992\n",
       " 39      7676\n",
       " 70      7479\n",
       " 101     7339\n",
       " 78      7334\n",
       " 12      7246\n",
       " 67      7061\n",
       " 16      7007\n",
       " 11      6716\n",
       " 92      6506\n",
       " 85      6313\n",
       " 48      6010\n",
       " 51      6008\n",
       " 27      5930\n",
       " 80      5710\n",
       "        ...  \n",
       " 21      2424\n",
       " 77      2405\n",
       " 71      2357\n",
       " 24      2353\n",
       " 30      2322\n",
       " 9       2211\n",
       " 102     2103\n",
       " 79      2079\n",
       " 96      2073\n",
       " 47      2035\n",
       " 15      1880\n",
       " 73      1858\n",
       " 20      1848\n",
       " 91      1838\n",
       " 50      1825\n",
       " 33      1790\n",
       " 69      1785\n",
       " 59      1770\n",
       " 45      1706\n",
       " 75      1678\n",
       " 23      1668\n",
       " 54      1622\n",
       " 4       1596\n",
       " 97      1484\n",
       " 35      1481\n",
       " 58      1464\n",
       " 81      1433\n",
       " 56      1272\n",
       " 18      1233\n",
       " 63      1103\n",
       " Name: ps_car_11_cat, Length: 104, dtype: int64, 0    522342\n",
       " 1     72870\n",
       " Name: ps_calc_15_bin, dtype: int64, 1    373698\n",
       " 0    221514\n",
       " Name: ps_calc_16_bin, dtype: int64, 1    329856\n",
       " 0    265356\n",
       " Name: ps_calc_17_bin, dtype: int64, 0    424278\n",
       " 1    170934\n",
       " Name: ps_calc_18_bin, dtype: int64, 0    387469\n",
       " 1    207743\n",
       " Name: ps_calc_19_bin, dtype: int64, 0    503955\n",
       " 1     91257\n",
       " Name: ps_calc_20_bin, dtype: int64]"
      ]
     },
     "execution_count": 10,
     "metadata": {},
     "output_type": "execute_result"
    }
   ],
   "source": [
    "Q2"
   ]
  },
  {
   "cell_type": "markdown",
   "metadata": {},
   "source": [
    "The table above is the result fo Q2, and since the format is not well done, please read it carefully (some are horizontal and some are in the next line)."
   ]
  },
  {
   "cell_type": "markdown",
   "metadata": {},
   "source": [
    "## Q3: How would you compute similarity between feature vectors of any pair of samples (rows)? Please first describe the steps or formula you will use to compute similarities. We require that the similarity measure should have values between 0 and 1. Then implement your function in script that takes two row indices as input and return a similarity value as output. (We require that your function  should be within 20 lines of codes)!"
   ]
  },
  {
   "cell_type": "markdown",
   "metadata": {},
   "source": [
    "### Answer \n",
    "##### For numerical data:\n",
    "\n",
    "Steps to compute similarities\n",
    "\n",
    "1. Compute cosine similarity between samples in X and Y\n",
    "2. Cosine similarity, or the cosine kernel, computes similarity as the\n",
    "    normalized dot product of X and Y:\n",
    "        K(X, Y) = <X, Y> / (||X||*||Y||)\n",
    "3. Parameters\n",
    "\n",
    "    X : ndarray or sparse array, shape: (n_samples_X, n_features)\n",
    "        Input data.\n",
    "    Y : ndarray or sparse array, shape: (n_samples_Y, n_features)\n",
    "        Input data. If ``None``, the output will be the pairwise\n",
    "        similarities between all samples in ``X``.\n",
    "    dense_output : boolean (optional), default True\n",
    "        Whether to return dense output even when the input is sparse. If\n",
    "        ``False``, the output is sparse if both input arrays are sparse.\n",
    "\n",
    "\n",
    "##### For categorical data:\n",
    "We just compare the values for the categorical data to decide whether they are the same or not."
   ]
  },
  {
   "cell_type": "markdown",
   "metadata": {},
   "source": [
    "##### Some pre-analysis for the dataset before the function\n",
    "use the package as well as function to prove the answer"
   ]
  },
  {
   "cell_type": "code",
   "execution_count": 18,
   "metadata": {
    "collapsed": true
   },
   "outputs": [],
   "source": [
    "row_range_1 = 3\n",
    "row_range_2 = 5"
   ]
  },
  {
   "cell_type": "code",
   "execution_count": 19,
   "metadata": {
    "ExecuteTime": {
     "end_time": "2018-09-18T03:41:03.617815Z",
     "start_time": "2018-09-18T03:41:03.599722Z"
    }
   },
   "outputs": [
    {
     "data": {
      "text/html": [
       "<div>\n",
       "<style>\n",
       "    .dataframe thead tr:only-child th {\n",
       "        text-align: right;\n",
       "    }\n",
       "\n",
       "    .dataframe thead th {\n",
       "        text-align: left;\n",
       "    }\n",
       "\n",
       "    .dataframe tbody tr th {\n",
       "        vertical-align: top;\n",
       "    }\n",
       "</style>\n",
       "<table border=\"1\" class=\"dataframe\">\n",
       "  <thead>\n",
       "    <tr style=\"text-align: right;\">\n",
       "      <th></th>\n",
       "      <th>id</th>\n",
       "      <th>target</th>\n",
       "      <th>ps_ind_01</th>\n",
       "      <th>ps_ind_02_cat</th>\n",
       "      <th>ps_ind_03</th>\n",
       "      <th>ps_ind_04_cat</th>\n",
       "      <th>ps_ind_05_cat</th>\n",
       "      <th>ps_ind_06_bin</th>\n",
       "      <th>ps_ind_07_bin</th>\n",
       "      <th>ps_ind_08_bin</th>\n",
       "      <th>...</th>\n",
       "      <th>ps_calc_11</th>\n",
       "      <th>ps_calc_12</th>\n",
       "      <th>ps_calc_13</th>\n",
       "      <th>ps_calc_14</th>\n",
       "      <th>ps_calc_15_bin</th>\n",
       "      <th>ps_calc_16_bin</th>\n",
       "      <th>ps_calc_17_bin</th>\n",
       "      <th>ps_calc_18_bin</th>\n",
       "      <th>ps_calc_19_bin</th>\n",
       "      <th>ps_calc_20_bin</th>\n",
       "    </tr>\n",
       "  </thead>\n",
       "  <tbody>\n",
       "    <tr>\n",
       "      <th>3</th>\n",
       "      <td>16</td>\n",
       "      <td>0</td>\n",
       "      <td>0</td>\n",
       "      <td>1</td>\n",
       "      <td>2</td>\n",
       "      <td>0</td>\n",
       "      <td>0</td>\n",
       "      <td>1</td>\n",
       "      <td>0</td>\n",
       "      <td>0</td>\n",
       "      <td>...</td>\n",
       "      <td>2</td>\n",
       "      <td>2</td>\n",
       "      <td>4</td>\n",
       "      <td>9</td>\n",
       "      <td>0</td>\n",
       "      <td>0</td>\n",
       "      <td>0</td>\n",
       "      <td>0</td>\n",
       "      <td>0</td>\n",
       "      <td>0</td>\n",
       "    </tr>\n",
       "    <tr>\n",
       "      <th>4</th>\n",
       "      <td>17</td>\n",
       "      <td>0</td>\n",
       "      <td>0</td>\n",
       "      <td>2</td>\n",
       "      <td>0</td>\n",
       "      <td>1</td>\n",
       "      <td>0</td>\n",
       "      <td>1</td>\n",
       "      <td>0</td>\n",
       "      <td>0</td>\n",
       "      <td>...</td>\n",
       "      <td>3</td>\n",
       "      <td>1</td>\n",
       "      <td>1</td>\n",
       "      <td>3</td>\n",
       "      <td>0</td>\n",
       "      <td>0</td>\n",
       "      <td>0</td>\n",
       "      <td>1</td>\n",
       "      <td>1</td>\n",
       "      <td>0</td>\n",
       "    </tr>\n",
       "  </tbody>\n",
       "</table>\n",
       "<p>2 rows × 59 columns</p>\n",
       "</div>"
      ],
      "text/plain": [
       "   id  target  ps_ind_01  ps_ind_02_cat  ps_ind_03  ps_ind_04_cat  \\\n",
       "3  16       0          0              1          2              0   \n",
       "4  17       0          0              2          0              1   \n",
       "\n",
       "   ps_ind_05_cat  ps_ind_06_bin  ps_ind_07_bin  ps_ind_08_bin       ...        \\\n",
       "3              0              1              0              0       ...         \n",
       "4              0              1              0              0       ...         \n",
       "\n",
       "   ps_calc_11  ps_calc_12  ps_calc_13  ps_calc_14  ps_calc_15_bin  \\\n",
       "3           2           2           4           9               0   \n",
       "4           3           1           1           3               0   \n",
       "\n",
       "   ps_calc_16_bin  ps_calc_17_bin  ps_calc_18_bin  ps_calc_19_bin  \\\n",
       "3               0               0               0               0   \n",
       "4               0               0               1               1   \n",
       "\n",
       "   ps_calc_20_bin  \n",
       "3               0  \n",
       "4               0  \n",
       "\n",
       "[2 rows x 59 columns]"
      ]
     },
     "execution_count": 19,
     "metadata": {},
     "output_type": "execute_result"
    }
   ],
   "source": [
    "df[row_range_1:row_range_2]  ## selected data (two rows)"
   ]
  },
  {
   "cell_type": "code",
   "execution_count": 22,
   "metadata": {
    "ExecuteTime": {
     "end_time": "2018-09-18T03:47:13.813932Z",
     "start_time": "2018-09-18T03:47:13.807084Z"
    }
   },
   "outputs": [
    {
     "data": {
      "text/plain": [
       "array([[ 1.        ,  0.98359439],\n",
       "       [ 0.98359439,  1.        ]])"
      ]
     },
     "execution_count": 22,
     "metadata": {},
     "output_type": "execute_result"
    }
   ],
   "source": [
    "## first use cosine similarity package to calculate the result\n",
    "from sklearn.metrics.pairwise import cosine_similarity   \n",
    "cosine_similarity(df[row_range_1:row_range_2])"
   ]
  },
  {
   "cell_type": "code",
   "execution_count": 99,
   "metadata": {
    "ExecuteTime": {
     "end_time": "2018-09-18T03:48:54.373900Z",
     "start_time": "2018-09-18T03:48:54.362572Z"
    },
    "collapsed": true
   },
   "outputs": [],
   "source": [
    "## Then use the function to calculate the similarity\n",
    "from scipy.spatial.distance import cosine   \n",
    "\n",
    "data = df[col_Q3_1].loc[[row_range_1,row_range_2]].values\n",
    "m, k = data.shape\n",
    "\n",
    "mat = np.zeros((m, m))\n",
    "\n",
    "for i in range(m):\n",
    "    for j in range(m):\n",
    "        if i != j:\n",
    "            mat[i][j] = 1- cosine(data[i,:], data[j,:])\n",
    "        else:\n",
    "            mat[i][j] = 1."
   ]
  },
  {
   "cell_type": "code",
   "execution_count": 100,
   "metadata": {
    "ExecuteTime": {
     "end_time": "2018-09-18T03:48:55.295373Z",
     "start_time": "2018-09-18T03:48:55.284276Z"
    }
   },
   "outputs": [
    {
     "data": {
      "text/plain": [
       "array([[ 1.        ,  0.92067215],\n",
       "       [ 0.92067215,  1.        ]])"
      ]
     },
     "execution_count": 100,
     "metadata": {},
     "output_type": "execute_result"
    }
   ],
   "source": [
    "mat  ## check if it is the same as the cosine similarity result"
   ]
  },
  {
   "cell_type": "code",
   "execution_count": 129,
   "metadata": {},
   "outputs": [],
   "source": []
  },
  {
   "cell_type": "markdown",
   "metadata": {},
   "source": [
    "### Answer (function): The function to compare the similarities (20 lines in tatal without notations)\n",
    "steps:\n",
    "1. For numerical data, I will use cosine similarities\n",
    "2. For categorical data, I will use 1 to represent the same value, 0 to represent difference.\n",
    "3. Then calculate the mean of the categorical similarity results (to normalize the result), as simi_cat\n",
    "4. Combine the numerical and categorical value by using their weight, for example there are 7 columns are numerical and 5 are categorical, then calculate the weight average as the final similarity result\n"
   ]
  },
  {
   "cell_type": "code",
   "execution_count": 139,
   "metadata": {
    "collapsed": true
   },
   "outputs": [],
   "source": [
    "from scipy.spatial.distance import cosine   \n",
    "\n",
    "df_Q3 = df.drop(['id'],axis=1)\n",
    "col_Q3 = df_Q3.columns[[v[-3:] in 'cat' for v in df_Q3.columns]]  ## columns that are categorical\n",
    "col_Q3_num = [vv for vv in list(df_Q3.columns) if vv not in list(col_Q3)]  ## columns that are numerical\n",
    "## or we can use\n",
    "## col_Q3_num = set(list(df_Q3.columns)) - set(list(col_Q3))\n",
    "def compare_similarities(row_range_1,row_range_2,df_new):\n",
    "    # For categorical data\n",
    "    ## num_zero_cat is the number of zero in each row, which means the number of value that equals in two rows\n",
    "    ## num_non_zero_cat is the number of columns that catgorical data are differnt in two selected rows\n",
    "    num_zero_cat = (df_new[col_Q3].loc[[row_range_1, row_range_2]].diff().iloc[[1]] == 0).astype(int).sum(axis=1).sum()  \n",
    "    num_non_zero_cat = (len(col_Q3) - num_zero_cat)*1\n",
    "    simi_cat = (num_zero_cat*0 + num_non_zero_cat*1)/len(col_Q3)  ## normalized the similarities of categorical data\n",
    "    # For numerical data\n",
    "    data_num = df_new[col_Q3_num].loc[[row_range_1, row_range_2]].values\n",
    "    m1,m2 = data_num.shape\n",
    "    mat_num = np.zeros((m1,m1))\n",
    "    for i in range(m1):\n",
    "        for j in range(m1):\n",
    "            if i != j:\n",
    "                mat_num[i][j] = 1 - cosine(data_num[i,:], data_num[j,:])\n",
    "            else:\n",
    "                mat_num[i][j] = 1\n",
    "    ## extract the cosine similarity from the matrix\n",
    "    simi_num = mat_num[0,1]\n",
    "    # Combine the categorical similarities together with numerical similarities\n",
    "    similarity_result = (len(col_Q3)/len(df_new.columns))*simi_cat + (len(col_Q3_num)/len(df_new.columns))*simi_num\n",
    "    return similarity_result"
   ]
  },
  {
   "cell_type": "code",
   "execution_count": 140,
   "metadata": {},
   "outputs": [
    {
     "data": {
      "text/plain": [
       "0.756443697690665"
      ]
     },
     "execution_count": 140,
     "metadata": {},
     "output_type": "execute_result"
    }
   ],
   "source": [
    "compare_similarities(row_range_1,row_range_2,df_Q3)"
   ]
  },
  {
   "cell_type": "markdown",
   "metadata": {
    "ExecuteTime": {
     "end_time": "2018-09-18T03:49:19.704001Z",
     "start_time": "2018-09-18T03:49:19.698943Z"
    }
   },
   "source": [
    "## Q4: How many features contain missing values? For each feature containing missing values, what is the ratio of rows (samples) that miss values? How many samples in total contain missing values? "
   ]
  },
  {
   "cell_type": "markdown",
   "metadata": {},
   "source": [
    "### Answer \n",
    "1. Missing value: NaN(none of the feature); -1 (13 features)\n",
    "2. The ratio for each feature are as below:\n",
    "\n",
    "feature name:ps_ind_02_cat,  # of missing value:216,  ratio of rows: 0.0003628959093566662\n",
    "\n",
    "feature name:ps_ind_04_cat,  # of missing value:83,  ratio of rows: 0.00013944611331760784\n",
    "\n",
    "feature name:ps_ind_05_cat,  # of missing value:5809,  ratio of rows: 0.00975954785857812\n",
    "\n",
    "feature name:ps_reg_03,  # of missing value:107772,  ratio of rows: 0.18106489788512328\n",
    "\n",
    "feature name:ps_car_01_cat,  # of missing value:107,  ratio of rows: 0.0001797678810239041\n",
    "\n",
    "feature name:ps_car_02_cat,  # of missing value:5,  ratio of rows: 8.400368272145051e-06\n",
    "\n",
    "feature name:ps_car_03_cat,  # of missing value:411231,  ratio of rows: 0.6908983689844963\n",
    "\n",
    "feature name:ps_car_05_cat,  # of missing value:266551,  ratio of rows: 0.4478253126617071\n",
    "\n",
    "feature name:ps_car_07_cat,  # of missing value:11489,  ratio of rows: 0.019302366215734897\n",
    "\n",
    "feature name:ps_car_09_cat,  # of missing value:569,  ratio of rows: 0.0009559619093701067\n",
    "\n",
    "feature name:ps_car_11,  # of missing value:5,  ratio of rows: 8.400368272145051e-06\n",
    "\n",
    "feature name:ps_car_12,  # of missing value:1,  ratio of rows: 1.68007365442901e-06\n",
    "\n",
    "feature name:ps_car_14,  # of missing value:42620,  ratio of rows: 0.07160473915176441"
   ]
  },
  {
   "cell_type": "code",
   "execution_count": 148,
   "metadata": {},
   "outputs": [
    {
     "data": {
      "text/plain": [
       "id                False\n",
       "target            False\n",
       "ps_ind_01         False\n",
       "ps_ind_02_cat     False\n",
       "ps_ind_03         False\n",
       "ps_ind_04_cat     False\n",
       "ps_ind_05_cat     False\n",
       "ps_ind_06_bin     False\n",
       "ps_ind_07_bin     False\n",
       "ps_ind_08_bin     False\n",
       "ps_ind_09_bin     False\n",
       "ps_ind_10_bin     False\n",
       "ps_ind_11_bin     False\n",
       "ps_ind_12_bin     False\n",
       "ps_ind_13_bin     False\n",
       "ps_ind_14         False\n",
       "ps_ind_15         False\n",
       "ps_ind_16_bin     False\n",
       "ps_ind_17_bin     False\n",
       "ps_ind_18_bin     False\n",
       "ps_reg_01         False\n",
       "ps_reg_02         False\n",
       "ps_reg_03         False\n",
       "ps_car_01_cat     False\n",
       "ps_car_02_cat     False\n",
       "ps_car_03_cat     False\n",
       "ps_car_04_cat     False\n",
       "ps_car_05_cat     False\n",
       "ps_car_06_cat     False\n",
       "ps_car_07_cat     False\n",
       "ps_car_08_cat     False\n",
       "ps_car_09_cat     False\n",
       "ps_car_10_cat     False\n",
       "ps_car_11_cat     False\n",
       "ps_car_11         False\n",
       "ps_car_12         False\n",
       "ps_car_13         False\n",
       "ps_car_14         False\n",
       "ps_car_15         False\n",
       "ps_calc_01        False\n",
       "ps_calc_02        False\n",
       "ps_calc_03        False\n",
       "ps_calc_04        False\n",
       "ps_calc_05        False\n",
       "ps_calc_06        False\n",
       "ps_calc_07        False\n",
       "ps_calc_08        False\n",
       "ps_calc_09        False\n",
       "ps_calc_10        False\n",
       "ps_calc_11        False\n",
       "ps_calc_12        False\n",
       "ps_calc_13        False\n",
       "ps_calc_14        False\n",
       "ps_calc_15_bin    False\n",
       "ps_calc_16_bin    False\n",
       "ps_calc_17_bin    False\n",
       "ps_calc_18_bin    False\n",
       "ps_calc_19_bin    False\n",
       "ps_calc_20_bin    False\n",
       "dtype: bool"
      ]
     },
     "execution_count": 148,
     "metadata": {},
     "output_type": "execute_result"
    }
   ],
   "source": [
    "## first, check if there is NAN in the dataset\n",
    "df.isnull().any() "
   ]
  },
  {
   "cell_type": "code",
   "execution_count": 149,
   "metadata": {
    "ExecuteTime": {
     "end_time": "2018-09-18T03:56:20.959131Z",
     "start_time": "2018-09-18T03:56:20.455008Z"
    }
   },
   "outputs": [
    {
     "data": {
      "text/plain": [
       "0"
      ]
     },
     "execution_count": 149,
     "metadata": {},
     "output_type": "execute_result"
    }
   ],
   "source": [
    "df.isnull().any().sum()  ## which means that none of the feature contains NAN"
   ]
  },
  {
   "cell_type": "code",
   "execution_count": 150,
   "metadata": {
    "ExecuteTime": {
     "end_time": "2018-09-18T05:10:49.324438Z",
     "start_time": "2018-09-18T05:10:46.496034Z"
    }
   },
   "outputs": [
    {
     "data": {
      "text/plain": [
       "13"
      ]
     },
     "execution_count": 150,
     "metadata": {},
     "output_type": "execute_result"
    }
   ],
   "source": [
    "## Then, we can see that there are some negative value in the dataset\n",
    "## However, it is not possible that '-1' shows up here, so it can also be seen as missing value (total 13 columns here)\n",
    "df[(df == -1)].any().sum()"
   ]
  },
  {
   "cell_type": "code",
   "execution_count": 151,
   "metadata": {
    "ExecuteTime": {
     "end_time": "2018-09-18T05:10:57.459659Z",
     "start_time": "2018-09-18T05:10:54.559615Z"
    }
   },
   "outputs": [
    {
     "data": {
      "text/plain": [
       "Index(['ps_ind_02_cat', 'ps_ind_04_cat', 'ps_ind_05_cat', 'ps_reg_03',\n",
       "       'ps_car_01_cat', 'ps_car_02_cat', 'ps_car_03_cat', 'ps_car_05_cat',\n",
       "       'ps_car_07_cat', 'ps_car_09_cat', 'ps_car_11', 'ps_car_12',\n",
       "       'ps_car_14'],\n",
       "      dtype='object')"
      ]
     },
     "execution_count": 151,
     "metadata": {},
     "output_type": "execute_result"
    }
   ],
   "source": [
    "df.columns[df[(df == -1)].any()]  ## this is the columns which has '-1' as missing value"
   ]
  },
  {
   "cell_type": "code",
   "execution_count": 124,
   "metadata": {
    "ExecuteTime": {
     "end_time": "2018-09-19T02:40:59.391534Z",
     "start_time": "2018-09-19T02:40:56.089894Z"
    },
    "collapsed": true
   },
   "outputs": [],
   "source": [
    "col_Q4 = list(df.columns[df[(df == -1)].any()])"
   ]
  },
  {
   "cell_type": "code",
   "execution_count": 161,
   "metadata": {
    "ExecuteTime": {
     "end_time": "2018-09-19T02:52:39.673426Z",
     "start_time": "2018-09-19T02:52:39.469359Z"
    }
   },
   "outputs": [
    {
     "name": "stdout",
     "output_type": "stream",
     "text": [
      "feature name:ps_ind_02_cat,  # of missing value:216,  ratio of rows: 0.0003628959093566662\n",
      "feature name:ps_ind_04_cat,  # of missing value:83,  ratio of rows: 0.00013944611331760784\n",
      "feature name:ps_ind_05_cat,  # of missing value:5809,  ratio of rows: 0.00975954785857812\n",
      "feature name:ps_reg_03,  # of missing value:107772,  ratio of rows: 0.18106489788512328\n",
      "feature name:ps_car_01_cat,  # of missing value:107,  ratio of rows: 0.0001797678810239041\n",
      "feature name:ps_car_02_cat,  # of missing value:5,  ratio of rows: 8.400368272145051e-06\n",
      "feature name:ps_car_03_cat,  # of missing value:411231,  ratio of rows: 0.6908983689844963\n",
      "feature name:ps_car_05_cat,  # of missing value:266551,  ratio of rows: 0.4478253126617071\n",
      "feature name:ps_car_07_cat,  # of missing value:11489,  ratio of rows: 0.019302366215734897\n",
      "feature name:ps_car_09_cat,  # of missing value:569,  ratio of rows: 0.0009559619093701067\n",
      "feature name:ps_car_11,  # of missing value:5,  ratio of rows: 8.400368272145051e-06\n",
      "feature name:ps_car_12,  # of missing value:1,  ratio of rows: 1.68007365442901e-06\n",
      "feature name:ps_car_14,  # of missing value:42620,  ratio of rows: 0.07160473915176441\n"
     ]
    }
   ],
   "source": [
    "for c in col_Q4:\n",
    "    print('feature name:%s, '%c,\n",
    "          '# of missing value:%s, '%((df[c])<0).sum(),\n",
    "          'ratio of rows: %s' %((((df[c])<0).sum()).astype(int)/len(df[c])))"
   ]
  },
  {
   "cell_type": "code",
   "execution_count": 168,
   "metadata": {
    "ExecuteTime": {
     "end_time": "2018-09-19T02:57:11.703013Z",
     "start_time": "2018-09-19T02:57:09.114060Z"
    }
   },
   "outputs": [
    {
     "data": {
      "text/plain": [
       "2    254982\n",
       "1    156295\n",
       "0    124931\n",
       "3    56042 \n",
       "4    2883  \n",
       "7    53    \n",
       "6    19    \n",
       "8    7     \n",
       "dtype: int64"
      ]
     },
     "execution_count": 168,
     "metadata": {},
     "output_type": "execute_result"
    }
   ],
   "source": [
    "(df[df<0].count(axis=1)).value_counts()"
   ]
  },
  {
   "cell_type": "code",
   "execution_count": 167,
   "metadata": {
    "ExecuteTime": {
     "end_time": "2018-09-19T02:56:57.545342Z",
     "start_time": "2018-09-19T02:56:55.091218Z"
    }
   },
   "outputs": [
    {
     "data": {
      "text/plain": [
       "True     470281\n",
       "False    124931\n",
       "dtype: int64"
      ]
     },
     "execution_count": 167,
     "metadata": {},
     "output_type": "execute_result"
    }
   ],
   "source": [
    "## How many samples in total contain missing values? --- 470281\n",
    "(df[df<0].count(axis=1)>0).value_counts()"
   ]
  },
  {
   "cell_type": "markdown",
   "metadata": {},
   "source": [
    "## Q5:\tPlease fill in the missing values, and briefly describe your approach."
   ]
  },
  {
   "cell_type": "markdown",
   "metadata": {},
   "source": [
    "### Answer\n",
    "\n",
    "If we want to fill in the missing value, there are several different cases needed to be considered:\n",
    "1. In previous Q4, we can see that if the ratio of missing value > 20%, I decided to drop this column\n",
    "Then\n",
    "2. For numerical data, we can calculate the mean/median value of this column, then use this value to impute the missing place\n",
    "3. For categorical data, since we need to do the one-hot encoding afterwards, we can keep the -1 here as a specific class (used for later dummies data, which means this spot is missing)\n"
   ]
  },
  {
   "cell_type": "code",
   "execution_count": 188,
   "metadata": {
    "ExecuteTime": {
     "end_time": "2018-09-19T04:37:20.089581Z",
     "start_time": "2018-09-19T04:37:19.129725Z"
    }
   },
   "outputs": [
    {
     "name": "stdout",
     "output_type": "stream",
     "text": [
      "ps_reg_03\n",
      "ps_car_11\n",
      "ps_car_12\n",
      "ps_car_14\n"
     ]
    }
   ],
   "source": [
    "col_Q5 = []\n",
    "df_impute = df.copy()\n",
    "for c in col_Q4:\n",
    "    if ((((df[c])<0).sum()).astype(int)/len(df[c])) < 0.2:\n",
    "        col_Q5.append(c)\n",
    "        if c[-3:] != 'cat':\n",
    "            print(c)\n",
    "            df_impute[c] = np.where(df[c]==-1, df_impute[c].median(), df_impute[c] )"
   ]
  },
  {
   "cell_type": "code",
   "execution_count": 170,
   "metadata": {
    "ExecuteTime": {
     "end_time": "2018-09-19T04:18:47.203656Z",
     "start_time": "2018-09-19T04:18:47.197009Z"
    }
   },
   "outputs": [
    {
     "data": {
      "text/plain": [
       "['ps_ind_02_cat',\n",
       " 'ps_ind_04_cat',\n",
       " 'ps_ind_05_cat',\n",
       " 'ps_reg_03',\n",
       " 'ps_car_01_cat',\n",
       " 'ps_car_02_cat',\n",
       " 'ps_car_07_cat',\n",
       " 'ps_car_09_cat',\n",
       " 'ps_car_11',\n",
       " 'ps_car_12',\n",
       " 'ps_car_14']"
      ]
     },
     "execution_count": 170,
     "metadata": {},
     "output_type": "execute_result"
    }
   ],
   "source": [
    "col_Q5"
   ]
  },
  {
   "cell_type": "markdown",
   "metadata": {},
   "source": [
    "## Q6: How many classes are there in our target column? Is our class balanced or highly imbalanced? What challenge do you expect in classification task based on your observation?"
   ]
  },
  {
   "cell_type": "markdown",
   "metadata": {},
   "source": [
    "### Answer\n",
    "1. There are two classes in our target column: label '0': 573518, label '1': 21694. \n",
    "\n",
    "2. Therefore, the class is imbalanced, label '1' : label '0' =  0.0378. \n",
    "\n",
    "3. In this case, the label is imbalanced. When we do the classfication, sometimes the 'accuracy' metric will be very high. However, it is not true since maybe most of the label '0' are predicted correctly, while label '1' has very low accuracy. Therefore, at this time, accuracy cannot be the exact metric to evaluate the performance and it will mislead the model performance."
   ]
  },
  {
   "cell_type": "code",
   "execution_count": 190,
   "metadata": {
    "ExecuteTime": {
     "end_time": "2018-09-19T04:40:33.058592Z",
     "start_time": "2018-09-19T04:40:33.052106Z"
    }
   },
   "outputs": [
    {
     "data": {
      "text/plain": [
       "Index(['id', 'target', 'ps_ind_01', 'ps_ind_02_cat', 'ps_ind_03',\n",
       "       'ps_ind_04_cat', 'ps_ind_05_cat', 'ps_ind_06_bin', 'ps_ind_07_bin',\n",
       "       'ps_ind_08_bin', 'ps_ind_09_bin', 'ps_ind_10_bin', 'ps_ind_11_bin',\n",
       "       'ps_ind_12_bin', 'ps_ind_13_bin', 'ps_ind_14', 'ps_ind_15',\n",
       "       'ps_ind_16_bin', 'ps_ind_17_bin', 'ps_ind_18_bin', 'ps_reg_01',\n",
       "       'ps_reg_02', 'ps_reg_03', 'ps_car_01_cat', 'ps_car_02_cat',\n",
       "       'ps_car_03_cat', 'ps_car_04_cat', 'ps_car_05_cat', 'ps_car_06_cat',\n",
       "       'ps_car_07_cat', 'ps_car_08_cat', 'ps_car_09_cat', 'ps_car_10_cat',\n",
       "       'ps_car_11_cat', 'ps_car_11', 'ps_car_12', 'ps_car_13', 'ps_car_14',\n",
       "       'ps_car_15', 'ps_calc_01', 'ps_calc_02', 'ps_calc_03', 'ps_calc_04',\n",
       "       'ps_calc_05', 'ps_calc_06', 'ps_calc_07', 'ps_calc_08', 'ps_calc_09',\n",
       "       'ps_calc_10', 'ps_calc_11', 'ps_calc_12', 'ps_calc_13', 'ps_calc_14',\n",
       "       'ps_calc_15_bin', 'ps_calc_16_bin', 'ps_calc_17_bin', 'ps_calc_18_bin',\n",
       "       'ps_calc_19_bin', 'ps_calc_20_bin'],\n",
       "      dtype='object')"
      ]
     },
     "execution_count": 190,
     "metadata": {},
     "output_type": "execute_result"
    }
   ],
   "source": [
    "df_impute.columns"
   ]
  },
  {
   "cell_type": "code",
   "execution_count": 191,
   "metadata": {
    "ExecuteTime": {
     "end_time": "2018-09-19T04:40:44.304251Z",
     "start_time": "2018-09-19T04:40:44.296478Z"
    }
   },
   "outputs": [
    {
     "data": {
      "text/plain": [
       "(595212, 59)"
      ]
     },
     "execution_count": 191,
     "metadata": {},
     "output_type": "execute_result"
    }
   ],
   "source": [
    "df_impute.shape"
   ]
  },
  {
   "cell_type": "code",
   "execution_count": 203,
   "metadata": {
    "ExecuteTime": {
     "end_time": "2018-09-20T02:31:55.701672Z",
     "start_time": "2018-09-20T02:31:55.637746Z"
    }
   },
   "outputs": [
    {
     "data": {
      "text/plain": [
       "0    573518\n",
       "1    21694 \n",
       "Name: target, dtype: int64"
      ]
     },
     "execution_count": 203,
     "metadata": {},
     "output_type": "execute_result"
    }
   ],
   "source": [
    "df_impute.target.value_counts()"
   ]
  },
  {
   "cell_type": "code",
   "execution_count": 204,
   "metadata": {
    "ExecuteTime": {
     "end_time": "2018-09-20T02:32:02.558616Z",
     "start_time": "2018-09-20T02:32:02.536614Z"
    }
   },
   "outputs": [
    {
     "data": {
      "text/plain": [
       "0.037826188541597645"
      ]
     },
     "execution_count": 204,
     "metadata": {},
     "output_type": "execute_result"
    }
   ],
   "source": [
    "(df_impute['target']==1).sum()/(df_impute['target']==0).sum()  ## the ratio of imbalanced data (1:0)"
   ]
  },
  {
   "cell_type": "markdown",
   "metadata": {},
   "source": [
    "## Q7:\tSuppose we need to reduce the feature dimension to m (m is a parameter such as 10), and decided to use Principle Component Analysis (PCA) to do that. Can you directly run PCA on our data and why? \n",
    "\n",
    "If not, please preprocess the data and then run PCA with m = 10. In your results, please provide the 10 principle components (vectors) by a decreasing order, as well as data with reduced dimension.\n",
    "\n",
    "Hint: for categorical attributes, we can encode them into a set of binary attributes (see https://www.kdnuggets.com/2015/12/beyond-one-hot-exploration-categorical-variables.html). "
   ]
  },
  {
   "cell_type": "markdown",
   "metadata": {},
   "source": [
    "### Answer \n",
    "1. No, it cannot directly use PCA since there are some categorical data in the dataframe, since PCA can only deal with the linear relationship numerical data. Therefore, we should use one-hot encoding to first transform categorical data into numerical data, then use PCA to reduce features.\n",
    "\n",
    "2. Also, we still need to standardize the values. PCA is effected by scale so we need to scale the features in the data before applying PCA. (https://towardsdatascience.com/pca-using-python-scikit-learn-e653f8989e60)"
   ]
  },
  {
   "cell_type": "code",
   "execution_count": 207,
   "metadata": {
    "ExecuteTime": {
     "end_time": "2018-09-20T02:39:28.280534Z",
     "start_time": "2018-09-20T02:39:28.277135Z"
    },
    "collapsed": true
   },
   "outputs": [],
   "source": [
    "col_Q7 = df_impute.columns[[v[-3:] in 'cat' for v in df_impute.columns]]"
   ]
  },
  {
   "cell_type": "code",
   "execution_count": 208,
   "metadata": {
    "ExecuteTime": {
     "end_time": "2018-09-20T02:39:34.077109Z",
     "start_time": "2018-09-20T02:39:34.071458Z"
    }
   },
   "outputs": [
    {
     "data": {
      "text/plain": [
       "Index(['ps_ind_02_cat', 'ps_ind_04_cat', 'ps_ind_05_cat', 'ps_car_01_cat',\n",
       "       'ps_car_02_cat', 'ps_car_03_cat', 'ps_car_04_cat', 'ps_car_05_cat',\n",
       "       'ps_car_06_cat', 'ps_car_07_cat', 'ps_car_08_cat', 'ps_car_09_cat',\n",
       "       'ps_car_10_cat', 'ps_car_11_cat'],\n",
       "      dtype='object')"
      ]
     },
     "execution_count": 208,
     "metadata": {},
     "output_type": "execute_result"
    }
   ],
   "source": [
    "col_Q7"
   ]
  },
  {
   "cell_type": "code",
   "execution_count": 219,
   "metadata": {
    "ExecuteTime": {
     "end_time": "2018-09-20T03:27:26.591555Z",
     "start_time": "2018-09-20T03:27:24.445510Z"
    },
    "collapsed": true
   },
   "outputs": [],
   "source": [
    "df_new = pd.get_dummies(df_impute, columns=col_Q7)"
   ]
  },
  {
   "cell_type": "code",
   "execution_count": 223,
   "metadata": {
    "ExecuteTime": {
     "end_time": "2018-09-20T03:30:28.407292Z",
     "start_time": "2018-09-20T03:30:28.401826Z"
    }
   },
   "outputs": [
    {
     "data": {
      "text/plain": [
       "(595212, 59)"
      ]
     },
     "execution_count": 223,
     "metadata": {},
     "output_type": "execute_result"
    }
   ],
   "source": [
    "df_impute.shape"
   ]
  },
  {
   "cell_type": "code",
   "execution_count": 222,
   "metadata": {
    "ExecuteTime": {
     "end_time": "2018-09-20T03:30:15.591145Z",
     "start_time": "2018-09-20T03:30:15.585020Z"
    }
   },
   "outputs": [
    {
     "data": {
      "text/plain": [
       "(595212, 229)"
      ]
     },
     "execution_count": 222,
     "metadata": {},
     "output_type": "execute_result"
    }
   ],
   "source": [
    "df_new.shape"
   ]
  },
  {
   "cell_type": "code",
   "execution_count": 224,
   "metadata": {
    "ExecuteTime": {
     "end_time": "2018-09-20T03:35:28.176336Z",
     "start_time": "2018-09-20T03:35:28.169479Z"
    }
   },
   "outputs": [
    {
     "data": {
      "text/plain": [
       "Index(['id', 'target', 'ps_ind_01', 'ps_ind_03', 'ps_ind_06_bin',\n",
       "       'ps_ind_07_bin', 'ps_ind_08_bin', 'ps_ind_09_bin', 'ps_ind_10_bin',\n",
       "       'ps_ind_11_bin',\n",
       "       ...\n",
       "       'ps_car_11_cat_95', 'ps_car_11_cat_96', 'ps_car_11_cat_97',\n",
       "       'ps_car_11_cat_98', 'ps_car_11_cat_99', 'ps_car_11_cat_100',\n",
       "       'ps_car_11_cat_101', 'ps_car_11_cat_102', 'ps_car_11_cat_103',\n",
       "       'ps_car_11_cat_104'],\n",
       "      dtype='object', length=229)"
      ]
     },
     "execution_count": 224,
     "metadata": {},
     "output_type": "execute_result"
    }
   ],
   "source": [
    "df_new.columns"
   ]
  },
  {
   "cell_type": "code",
   "execution_count": 229,
   "metadata": {
    "ExecuteTime": {
     "end_time": "2018-09-20T03:47:20.339508Z",
     "start_time": "2018-09-20T03:47:20.323238Z"
    },
    "collapsed": true
   },
   "outputs": [],
   "source": [
    "col_x = df_new.columns[2:]"
   ]
  },
  {
   "cell_type": "code",
   "execution_count": 232,
   "metadata": {
    "ExecuteTime": {
     "end_time": "2018-09-20T03:50:57.586833Z",
     "start_time": "2018-09-20T03:50:41.113584Z"
    },
    "collapsed": true
   },
   "outputs": [],
   "source": [
    "from sklearn.preprocessing import StandardScaler\n",
    "\n",
    "features = col_x\n",
    "# Separating out the features\n",
    "x = df_new.loc[:, features].values\n",
    "# Separating out the target\n",
    "y = df_new.loc[:,['target']].values\n",
    "# Standardizing the features\n",
    "x = StandardScaler().fit_transform(x)"
   ]
  },
  {
   "cell_type": "code",
   "execution_count": 246,
   "metadata": {
    "ExecuteTime": {
     "end_time": "2018-09-20T03:57:51.692913Z",
     "start_time": "2018-09-20T03:57:29.860420Z"
    },
    "collapsed": true
   },
   "outputs": [],
   "source": [
    "from sklearn.decomposition import PCA\n",
    "pca = PCA(n_components=10)\n",
    "principalComponents = pca.fit_transform(x)\n",
    "principalDf = pd.DataFrame(data = principalComponents\n",
    "             , columns = ['principal_component_{0}'.format(i) for i in range(10)])"
   ]
  },
  {
   "cell_type": "code",
   "execution_count": 248,
   "metadata": {
    "ExecuteTime": {
     "end_time": "2018-09-20T03:58:25.629137Z",
     "start_time": "2018-09-20T03:58:25.590788Z"
    }
   },
   "outputs": [
    {
     "data": {
      "text/html": [
       "<div>\n",
       "<style scoped>\n",
       "    .dataframe tbody tr th:only-of-type {\n",
       "        vertical-align: middle;\n",
       "    }\n",
       "\n",
       "    .dataframe tbody tr th {\n",
       "        vertical-align: top;\n",
       "    }\n",
       "\n",
       "    .dataframe thead th {\n",
       "        text-align: right;\n",
       "    }\n",
       "</style>\n",
       "<table border=\"1\" class=\"dataframe\">\n",
       "  <thead>\n",
       "    <tr style=\"text-align: right;\">\n",
       "      <th></th>\n",
       "      <th>principal_component_0</th>\n",
       "      <th>principal_component_1</th>\n",
       "      <th>principal_component_2</th>\n",
       "      <th>principal_component_3</th>\n",
       "      <th>principal_component_4</th>\n",
       "      <th>principal_component_5</th>\n",
       "      <th>principal_component_6</th>\n",
       "      <th>principal_component_7</th>\n",
       "      <th>principal_component_8</th>\n",
       "      <th>principal_component_9</th>\n",
       "    </tr>\n",
       "  </thead>\n",
       "  <tbody>\n",
       "    <tr>\n",
       "      <th>0</th>\n",
       "      <td>0.728200</td>\n",
       "      <td>0.172518</td>\n",
       "      <td>-0.881308</td>\n",
       "      <td>-3.991571</td>\n",
       "      <td>-2.838428</td>\n",
       "      <td>0.651680</td>\n",
       "      <td>0.118349</td>\n",
       "      <td>-0.292208</td>\n",
       "      <td>-0.335862</td>\n",
       "      <td>-2.087046</td>\n",
       "    </tr>\n",
       "    <tr>\n",
       "      <th>1</th>\n",
       "      <td>-1.828792</td>\n",
       "      <td>-0.611185</td>\n",
       "      <td>-0.254239</td>\n",
       "      <td>1.710160</td>\n",
       "      <td>1.077256</td>\n",
       "      <td>-0.209547</td>\n",
       "      <td>0.452505</td>\n",
       "      <td>-1.350203</td>\n",
       "      <td>1.130405</td>\n",
       "      <td>-1.514715</td>\n",
       "    </tr>\n",
       "    <tr>\n",
       "      <th>2</th>\n",
       "      <td>-2.377871</td>\n",
       "      <td>-0.364436</td>\n",
       "      <td>-0.756170</td>\n",
       "      <td>-0.599926</td>\n",
       "      <td>-0.034807</td>\n",
       "      <td>1.764038</td>\n",
       "      <td>-1.373202</td>\n",
       "      <td>0.256340</td>\n",
       "      <td>0.497494</td>\n",
       "      <td>0.871727</td>\n",
       "    </tr>\n",
       "    <tr>\n",
       "      <th>3</th>\n",
       "      <td>-1.899396</td>\n",
       "      <td>0.748594</td>\n",
       "      <td>2.103025</td>\n",
       "      <td>0.387801</td>\n",
       "      <td>3.392564</td>\n",
       "      <td>-0.891947</td>\n",
       "      <td>-0.727411</td>\n",
       "      <td>-0.189039</td>\n",
       "      <td>1.547573</td>\n",
       "      <td>0.441941</td>\n",
       "    </tr>\n",
       "    <tr>\n",
       "      <th>4</th>\n",
       "      <td>-2.571529</td>\n",
       "      <td>0.588896</td>\n",
       "      <td>-2.801840</td>\n",
       "      <td>0.309698</td>\n",
       "      <td>0.215793</td>\n",
       "      <td>2.062871</td>\n",
       "      <td>1.284384</td>\n",
       "      <td>-0.772547</td>\n",
       "      <td>0.481668</td>\n",
       "      <td>0.076281</td>\n",
       "    </tr>\n",
       "    <tr>\n",
       "      <th>5</th>\n",
       "      <td>3.466936</td>\n",
       "      <td>-2.451428</td>\n",
       "      <td>-1.752773</td>\n",
       "      <td>-1.862898</td>\n",
       "      <td>1.471364</td>\n",
       "      <td>0.373237</td>\n",
       "      <td>-0.515578</td>\n",
       "      <td>0.347843</td>\n",
       "      <td>-0.009560</td>\n",
       "      <td>-0.725201</td>\n",
       "    </tr>\n",
       "    <tr>\n",
       "      <th>6</th>\n",
       "      <td>-1.496763</td>\n",
       "      <td>-1.898499</td>\n",
       "      <td>0.525457</td>\n",
       "      <td>-3.081754</td>\n",
       "      <td>-0.046300</td>\n",
       "      <td>-0.606075</td>\n",
       "      <td>-0.138982</td>\n",
       "      <td>-0.077557</td>\n",
       "      <td>1.315849</td>\n",
       "      <td>-0.604759</td>\n",
       "    </tr>\n",
       "    <tr>\n",
       "      <th>7</th>\n",
       "      <td>-0.001749</td>\n",
       "      <td>0.782599</td>\n",
       "      <td>0.152227</td>\n",
       "      <td>1.266644</td>\n",
       "      <td>1.883270</td>\n",
       "      <td>-1.879793</td>\n",
       "      <td>-0.977290</td>\n",
       "      <td>0.371103</td>\n",
       "      <td>2.339282</td>\n",
       "      <td>-0.695249</td>\n",
       "    </tr>\n",
       "    <tr>\n",
       "      <th>8</th>\n",
       "      <td>0.233281</td>\n",
       "      <td>-2.554005</td>\n",
       "      <td>-0.975313</td>\n",
       "      <td>-2.925140</td>\n",
       "      <td>0.585253</td>\n",
       "      <td>0.265738</td>\n",
       "      <td>-0.213619</td>\n",
       "      <td>-0.372002</td>\n",
       "      <td>1.056606</td>\n",
       "      <td>0.590353</td>\n",
       "    </tr>\n",
       "    <tr>\n",
       "      <th>9</th>\n",
       "      <td>6.168378</td>\n",
       "      <td>1.389807</td>\n",
       "      <td>-0.562906</td>\n",
       "      <td>0.820801</td>\n",
       "      <td>1.283742</td>\n",
       "      <td>1.293156</td>\n",
       "      <td>0.049594</td>\n",
       "      <td>-1.946781</td>\n",
       "      <td>0.142176</td>\n",
       "      <td>1.158548</td>\n",
       "    </tr>\n",
       "    <tr>\n",
       "      <th>10</th>\n",
       "      <td>3.163615</td>\n",
       "      <td>-2.445844</td>\n",
       "      <td>-0.419530</td>\n",
       "      <td>2.555561</td>\n",
       "      <td>-0.770956</td>\n",
       "      <td>2.313461</td>\n",
       "      <td>-0.295057</td>\n",
       "      <td>-3.470252</td>\n",
       "      <td>5.972256</td>\n",
       "      <td>-2.422766</td>\n",
       "    </tr>\n",
       "    <tr>\n",
       "      <th>11</th>\n",
       "      <td>1.439971</td>\n",
       "      <td>0.426515</td>\n",
       "      <td>-1.738819</td>\n",
       "      <td>-0.400977</td>\n",
       "      <td>-3.217867</td>\n",
       "      <td>-1.771480</td>\n",
       "      <td>0.508730</td>\n",
       "      <td>0.856604</td>\n",
       "      <td>0.699530</td>\n",
       "      <td>-2.053552</td>\n",
       "    </tr>\n",
       "    <tr>\n",
       "      <th>12</th>\n",
       "      <td>-1.505563</td>\n",
       "      <td>-1.052972</td>\n",
       "      <td>-0.981399</td>\n",
       "      <td>-0.193437</td>\n",
       "      <td>-0.625512</td>\n",
       "      <td>0.059727</td>\n",
       "      <td>-0.158776</td>\n",
       "      <td>-0.006809</td>\n",
       "      <td>1.505622</td>\n",
       "      <td>-1.088176</td>\n",
       "    </tr>\n",
       "    <tr>\n",
       "      <th>13</th>\n",
       "      <td>1.283613</td>\n",
       "      <td>1.885801</td>\n",
       "      <td>-0.503522</td>\n",
       "      <td>-1.213329</td>\n",
       "      <td>1.535327</td>\n",
       "      <td>0.656784</td>\n",
       "      <td>-0.917106</td>\n",
       "      <td>-0.209279</td>\n",
       "      <td>0.193925</td>\n",
       "      <td>0.982743</td>\n",
       "    </tr>\n",
       "    <tr>\n",
       "      <th>14</th>\n",
       "      <td>-1.711732</td>\n",
       "      <td>-0.567142</td>\n",
       "      <td>-0.350036</td>\n",
       "      <td>0.919830</td>\n",
       "      <td>1.417033</td>\n",
       "      <td>0.416389</td>\n",
       "      <td>-1.164266</td>\n",
       "      <td>-0.325970</td>\n",
       "      <td>1.076190</td>\n",
       "      <td>-2.115189</td>\n",
       "    </tr>\n",
       "    <tr>\n",
       "      <th>15</th>\n",
       "      <td>6.995928</td>\n",
       "      <td>-4.102358</td>\n",
       "      <td>1.696512</td>\n",
       "      <td>-1.147533</td>\n",
       "      <td>-3.271644</td>\n",
       "      <td>-3.649551</td>\n",
       "      <td>2.346442</td>\n",
       "      <td>0.185272</td>\n",
       "      <td>-2.793212</td>\n",
       "      <td>0.864992</td>\n",
       "    </tr>\n",
       "    <tr>\n",
       "      <th>16</th>\n",
       "      <td>0.705163</td>\n",
       "      <td>0.373901</td>\n",
       "      <td>-0.781527</td>\n",
       "      <td>-0.165769</td>\n",
       "      <td>-2.132462</td>\n",
       "      <td>5.252504</td>\n",
       "      <td>-1.229757</td>\n",
       "      <td>-1.704436</td>\n",
       "      <td>1.384583</td>\n",
       "      <td>3.929242</td>\n",
       "    </tr>\n",
       "    <tr>\n",
       "      <th>17</th>\n",
       "      <td>0.445339</td>\n",
       "      <td>3.679966</td>\n",
       "      <td>0.921182</td>\n",
       "      <td>0.698369</td>\n",
       "      <td>-0.696699</td>\n",
       "      <td>-1.100519</td>\n",
       "      <td>-1.436081</td>\n",
       "      <td>1.378673</td>\n",
       "      <td>1.034746</td>\n",
       "      <td>-1.202349</td>\n",
       "    </tr>\n",
       "    <tr>\n",
       "      <th>18</th>\n",
       "      <td>-2.287771</td>\n",
       "      <td>-0.919639</td>\n",
       "      <td>-0.351709</td>\n",
       "      <td>2.341374</td>\n",
       "      <td>0.664372</td>\n",
       "      <td>-1.019131</td>\n",
       "      <td>-0.937044</td>\n",
       "      <td>0.426805</td>\n",
       "      <td>0.555958</td>\n",
       "      <td>2.695368</td>\n",
       "    </tr>\n",
       "    <tr>\n",
       "      <th>19</th>\n",
       "      <td>-3.889571</td>\n",
       "      <td>-0.235392</td>\n",
       "      <td>-0.826889</td>\n",
       "      <td>1.231192</td>\n",
       "      <td>0.886933</td>\n",
       "      <td>0.316022</td>\n",
       "      <td>0.356667</td>\n",
       "      <td>-0.548334</td>\n",
       "      <td>-0.807190</td>\n",
       "      <td>1.175443</td>\n",
       "    </tr>\n",
       "    <tr>\n",
       "      <th>20</th>\n",
       "      <td>-2.001995</td>\n",
       "      <td>0.046240</td>\n",
       "      <td>-1.104454</td>\n",
       "      <td>1.614100</td>\n",
       "      <td>0.558159</td>\n",
       "      <td>0.219380</td>\n",
       "      <td>1.285297</td>\n",
       "      <td>-1.615105</td>\n",
       "      <td>0.475054</td>\n",
       "      <td>0.179606</td>\n",
       "    </tr>\n",
       "    <tr>\n",
       "      <th>21</th>\n",
       "      <td>-2.946199</td>\n",
       "      <td>0.539969</td>\n",
       "      <td>-1.150041</td>\n",
       "      <td>1.116881</td>\n",
       "      <td>0.380355</td>\n",
       "      <td>0.310472</td>\n",
       "      <td>0.155067</td>\n",
       "      <td>0.274071</td>\n",
       "      <td>1.334834</td>\n",
       "      <td>-0.991061</td>\n",
       "    </tr>\n",
       "    <tr>\n",
       "      <th>22</th>\n",
       "      <td>2.145453</td>\n",
       "      <td>0.921438</td>\n",
       "      <td>-0.567669</td>\n",
       "      <td>-2.363420</td>\n",
       "      <td>1.732647</td>\n",
       "      <td>-0.206296</td>\n",
       "      <td>0.094500</td>\n",
       "      <td>0.515727</td>\n",
       "      <td>0.702540</td>\n",
       "      <td>0.760013</td>\n",
       "    </tr>\n",
       "    <tr>\n",
       "      <th>23</th>\n",
       "      <td>-0.689680</td>\n",
       "      <td>-2.151683</td>\n",
       "      <td>0.642013</td>\n",
       "      <td>-2.656084</td>\n",
       "      <td>-1.163228</td>\n",
       "      <td>-0.692014</td>\n",
       "      <td>0.719266</td>\n",
       "      <td>-0.601572</td>\n",
       "      <td>-0.218352</td>\n",
       "      <td>2.082643</td>\n",
       "    </tr>\n",
       "    <tr>\n",
       "      <th>24</th>\n",
       "      <td>-0.702051</td>\n",
       "      <td>-2.032439</td>\n",
       "      <td>1.970377</td>\n",
       "      <td>-0.770461</td>\n",
       "      <td>-0.748302</td>\n",
       "      <td>-1.473519</td>\n",
       "      <td>1.415656</td>\n",
       "      <td>-0.851547</td>\n",
       "      <td>-0.422800</td>\n",
       "      <td>0.772062</td>\n",
       "    </tr>\n",
       "    <tr>\n",
       "      <th>25</th>\n",
       "      <td>1.860742</td>\n",
       "      <td>-5.466269</td>\n",
       "      <td>3.203247</td>\n",
       "      <td>0.903691</td>\n",
       "      <td>-0.476065</td>\n",
       "      <td>-0.900248</td>\n",
       "      <td>-0.969671</td>\n",
       "      <td>-1.368455</td>\n",
       "      <td>4.994670</td>\n",
       "      <td>-1.050859</td>\n",
       "    </tr>\n",
       "    <tr>\n",
       "      <th>26</th>\n",
       "      <td>2.314336</td>\n",
       "      <td>-1.760110</td>\n",
       "      <td>0.019337</td>\n",
       "      <td>-1.802294</td>\n",
       "      <td>-1.991601</td>\n",
       "      <td>-3.047310</td>\n",
       "      <td>-0.060363</td>\n",
       "      <td>1.847369</td>\n",
       "      <td>-1.724126</td>\n",
       "      <td>-0.129106</td>\n",
       "    </tr>\n",
       "    <tr>\n",
       "      <th>27</th>\n",
       "      <td>-1.223108</td>\n",
       "      <td>-1.983099</td>\n",
       "      <td>0.650127</td>\n",
       "      <td>-2.336117</td>\n",
       "      <td>0.637177</td>\n",
       "      <td>-0.552887</td>\n",
       "      <td>-1.284109</td>\n",
       "      <td>0.865161</td>\n",
       "      <td>1.477865</td>\n",
       "      <td>-1.729962</td>\n",
       "    </tr>\n",
       "    <tr>\n",
       "      <th>28</th>\n",
       "      <td>0.971993</td>\n",
       "      <td>-2.170480</td>\n",
       "      <td>-0.910064</td>\n",
       "      <td>-1.776984</td>\n",
       "      <td>0.631570</td>\n",
       "      <td>0.692290</td>\n",
       "      <td>1.990262</td>\n",
       "      <td>0.495997</td>\n",
       "      <td>-0.800706</td>\n",
       "      <td>-0.108640</td>\n",
       "    </tr>\n",
       "    <tr>\n",
       "      <th>29</th>\n",
       "      <td>1.112678</td>\n",
       "      <td>-2.073157</td>\n",
       "      <td>-2.697752</td>\n",
       "      <td>-1.710083</td>\n",
       "      <td>2.716882</td>\n",
       "      <td>-1.196696</td>\n",
       "      <td>1.237980</td>\n",
       "      <td>1.884559</td>\n",
       "      <td>-1.473712</td>\n",
       "      <td>-1.438467</td>\n",
       "    </tr>\n",
       "    <tr>\n",
       "      <th>...</th>\n",
       "      <td>...</td>\n",
       "      <td>...</td>\n",
       "      <td>...</td>\n",
       "      <td>...</td>\n",
       "      <td>...</td>\n",
       "      <td>...</td>\n",
       "      <td>...</td>\n",
       "      <td>...</td>\n",
       "      <td>...</td>\n",
       "      <td>...</td>\n",
       "    </tr>\n",
       "    <tr>\n",
       "      <th>595182</th>\n",
       "      <td>-1.421781</td>\n",
       "      <td>-1.573541</td>\n",
       "      <td>2.705621</td>\n",
       "      <td>-0.989958</td>\n",
       "      <td>0.265050</td>\n",
       "      <td>0.385463</td>\n",
       "      <td>0.616898</td>\n",
       "      <td>1.563418</td>\n",
       "      <td>-2.151662</td>\n",
       "      <td>-0.565855</td>\n",
       "    </tr>\n",
       "    <tr>\n",
       "      <th>595183</th>\n",
       "      <td>-2.607170</td>\n",
       "      <td>-0.000988</td>\n",
       "      <td>-0.289655</td>\n",
       "      <td>2.075953</td>\n",
       "      <td>-0.202824</td>\n",
       "      <td>-0.438114</td>\n",
       "      <td>-0.371779</td>\n",
       "      <td>0.152142</td>\n",
       "      <td>-1.001490</td>\n",
       "      <td>0.971577</td>\n",
       "    </tr>\n",
       "    <tr>\n",
       "      <th>595184</th>\n",
       "      <td>-0.932200</td>\n",
       "      <td>-2.261062</td>\n",
       "      <td>6.599238</td>\n",
       "      <td>4.478762</td>\n",
       "      <td>0.086012</td>\n",
       "      <td>3.603678</td>\n",
       "      <td>-0.033855</td>\n",
       "      <td>0.481832</td>\n",
       "      <td>-1.505924</td>\n",
       "      <td>-3.400863</td>\n",
       "    </tr>\n",
       "    <tr>\n",
       "      <th>595185</th>\n",
       "      <td>-1.337283</td>\n",
       "      <td>4.228086</td>\n",
       "      <td>0.429800</td>\n",
       "      <td>-1.583245</td>\n",
       "      <td>-2.697223</td>\n",
       "      <td>-0.421519</td>\n",
       "      <td>-0.491232</td>\n",
       "      <td>0.820245</td>\n",
       "      <td>-0.941672</td>\n",
       "      <td>0.081147</td>\n",
       "    </tr>\n",
       "    <tr>\n",
       "      <th>595186</th>\n",
       "      <td>-0.016348</td>\n",
       "      <td>4.111154</td>\n",
       "      <td>-0.563171</td>\n",
       "      <td>-1.348731</td>\n",
       "      <td>-1.646335</td>\n",
       "      <td>-0.762309</td>\n",
       "      <td>-0.515199</td>\n",
       "      <td>0.102988</td>\n",
       "      <td>-0.090747</td>\n",
       "      <td>1.592363</td>\n",
       "    </tr>\n",
       "    <tr>\n",
       "      <th>595187</th>\n",
       "      <td>1.024977</td>\n",
       "      <td>-3.035452</td>\n",
       "      <td>4.583749</td>\n",
       "      <td>-0.472767</td>\n",
       "      <td>0.792218</td>\n",
       "      <td>3.884747</td>\n",
       "      <td>-0.824617</td>\n",
       "      <td>1.942760</td>\n",
       "      <td>-2.060677</td>\n",
       "      <td>-1.815099</td>\n",
       "    </tr>\n",
       "    <tr>\n",
       "      <th>595188</th>\n",
       "      <td>-2.138834</td>\n",
       "      <td>-0.194570</td>\n",
       "      <td>-0.208758</td>\n",
       "      <td>2.232385</td>\n",
       "      <td>-0.893645</td>\n",
       "      <td>-0.540686</td>\n",
       "      <td>-0.119622</td>\n",
       "      <td>0.317924</td>\n",
       "      <td>-0.287959</td>\n",
       "      <td>1.803306</td>\n",
       "    </tr>\n",
       "    <tr>\n",
       "      <th>595189</th>\n",
       "      <td>-1.401252</td>\n",
       "      <td>0.191129</td>\n",
       "      <td>1.520855</td>\n",
       "      <td>-0.470899</td>\n",
       "      <td>2.194687</td>\n",
       "      <td>-2.228948</td>\n",
       "      <td>-0.397323</td>\n",
       "      <td>-0.276807</td>\n",
       "      <td>2.095925</td>\n",
       "      <td>-0.319487</td>\n",
       "    </tr>\n",
       "    <tr>\n",
       "      <th>595190</th>\n",
       "      <td>-3.041662</td>\n",
       "      <td>-1.926421</td>\n",
       "      <td>1.380942</td>\n",
       "      <td>-1.954039</td>\n",
       "      <td>0.467537</td>\n",
       "      <td>0.212298</td>\n",
       "      <td>0.640083</td>\n",
       "      <td>0.489072</td>\n",
       "      <td>-1.268431</td>\n",
       "      <td>0.499656</td>\n",
       "    </tr>\n",
       "    <tr>\n",
       "      <th>595191</th>\n",
       "      <td>-0.394881</td>\n",
       "      <td>-0.820626</td>\n",
       "      <td>-0.218962</td>\n",
       "      <td>1.716084</td>\n",
       "      <td>0.129952</td>\n",
       "      <td>-0.013224</td>\n",
       "      <td>-0.485786</td>\n",
       "      <td>-0.199449</td>\n",
       "      <td>-0.098574</td>\n",
       "      <td>1.370638</td>\n",
       "    </tr>\n",
       "    <tr>\n",
       "      <th>595192</th>\n",
       "      <td>-1.242144</td>\n",
       "      <td>1.324328</td>\n",
       "      <td>-0.964088</td>\n",
       "      <td>1.286261</td>\n",
       "      <td>-2.975404</td>\n",
       "      <td>-0.323083</td>\n",
       "      <td>0.650890</td>\n",
       "      <td>-0.159656</td>\n",
       "      <td>0.545394</td>\n",
       "      <td>0.321864</td>\n",
       "    </tr>\n",
       "    <tr>\n",
       "      <th>595193</th>\n",
       "      <td>3.989743</td>\n",
       "      <td>5.890997</td>\n",
       "      <td>1.741228</td>\n",
       "      <td>0.244095</td>\n",
       "      <td>1.063493</td>\n",
       "      <td>2.095376</td>\n",
       "      <td>5.392764</td>\n",
       "      <td>3.584828</td>\n",
       "      <td>-0.550398</td>\n",
       "      <td>-2.435891</td>\n",
       "    </tr>\n",
       "    <tr>\n",
       "      <th>595194</th>\n",
       "      <td>-1.230752</td>\n",
       "      <td>1.525347</td>\n",
       "      <td>1.236634</td>\n",
       "      <td>-0.557552</td>\n",
       "      <td>0.939153</td>\n",
       "      <td>-1.180033</td>\n",
       "      <td>-0.863128</td>\n",
       "      <td>-0.564783</td>\n",
       "      <td>2.055442</td>\n",
       "      <td>0.035674</td>\n",
       "    </tr>\n",
       "    <tr>\n",
       "      <th>595195</th>\n",
       "      <td>2.114903</td>\n",
       "      <td>3.538532</td>\n",
       "      <td>0.551044</td>\n",
       "      <td>-2.016150</td>\n",
       "      <td>-2.866570</td>\n",
       "      <td>-2.350579</td>\n",
       "      <td>0.893584</td>\n",
       "      <td>-0.019562</td>\n",
       "      <td>0.427130</td>\n",
       "      <td>-2.800448</td>\n",
       "    </tr>\n",
       "    <tr>\n",
       "      <th>595196</th>\n",
       "      <td>-0.455136</td>\n",
       "      <td>-2.015755</td>\n",
       "      <td>5.918610</td>\n",
       "      <td>4.302013</td>\n",
       "      <td>0.288235</td>\n",
       "      <td>4.186765</td>\n",
       "      <td>0.182878</td>\n",
       "      <td>0.274087</td>\n",
       "      <td>-1.737433</td>\n",
       "      <td>-3.983409</td>\n",
       "    </tr>\n",
       "    <tr>\n",
       "      <th>595197</th>\n",
       "      <td>2.616276</td>\n",
       "      <td>0.920938</td>\n",
       "      <td>-1.267856</td>\n",
       "      <td>0.710983</td>\n",
       "      <td>-2.014979</td>\n",
       "      <td>4.793639</td>\n",
       "      <td>-2.736323</td>\n",
       "      <td>-2.149265</td>\n",
       "      <td>1.547089</td>\n",
       "      <td>4.504840</td>\n",
       "    </tr>\n",
       "    <tr>\n",
       "      <th>595198</th>\n",
       "      <td>0.049014</td>\n",
       "      <td>1.951480</td>\n",
       "      <td>-1.001671</td>\n",
       "      <td>-1.609522</td>\n",
       "      <td>1.517148</td>\n",
       "      <td>-0.378903</td>\n",
       "      <td>-2.345964</td>\n",
       "      <td>0.425423</td>\n",
       "      <td>2.093297</td>\n",
       "      <td>-1.269126</td>\n",
       "    </tr>\n",
       "    <tr>\n",
       "      <th>595199</th>\n",
       "      <td>1.197010</td>\n",
       "      <td>3.085651</td>\n",
       "      <td>0.244844</td>\n",
       "      <td>-0.754868</td>\n",
       "      <td>-2.276134</td>\n",
       "      <td>-1.443813</td>\n",
       "      <td>-1.956430</td>\n",
       "      <td>1.415324</td>\n",
       "      <td>1.681525</td>\n",
       "      <td>-2.029818</td>\n",
       "    </tr>\n",
       "    <tr>\n",
       "      <th>595200</th>\n",
       "      <td>-2.195547</td>\n",
       "      <td>0.135047</td>\n",
       "      <td>-0.415191</td>\n",
       "      <td>2.704053</td>\n",
       "      <td>-0.592333</td>\n",
       "      <td>-0.285785</td>\n",
       "      <td>0.913592</td>\n",
       "      <td>0.058987</td>\n",
       "      <td>1.085418</td>\n",
       "      <td>0.727309</td>\n",
       "    </tr>\n",
       "    <tr>\n",
       "      <th>595201</th>\n",
       "      <td>-2.168866</td>\n",
       "      <td>2.152059</td>\n",
       "      <td>-0.548533</td>\n",
       "      <td>-1.323073</td>\n",
       "      <td>1.845250</td>\n",
       "      <td>0.785150</td>\n",
       "      <td>0.347799</td>\n",
       "      <td>-0.673469</td>\n",
       "      <td>1.658913</td>\n",
       "      <td>-1.359796</td>\n",
       "    </tr>\n",
       "    <tr>\n",
       "      <th>595202</th>\n",
       "      <td>0.054216</td>\n",
       "      <td>-0.802363</td>\n",
       "      <td>2.307660</td>\n",
       "      <td>-0.928383</td>\n",
       "      <td>2.106234</td>\n",
       "      <td>-1.706391</td>\n",
       "      <td>-0.329080</td>\n",
       "      <td>-0.095291</td>\n",
       "      <td>1.805235</td>\n",
       "      <td>-0.462633</td>\n",
       "    </tr>\n",
       "    <tr>\n",
       "      <th>595203</th>\n",
       "      <td>2.378589</td>\n",
       "      <td>4.433112</td>\n",
       "      <td>-1.732016</td>\n",
       "      <td>-2.275060</td>\n",
       "      <td>-2.456702</td>\n",
       "      <td>0.328507</td>\n",
       "      <td>0.252424</td>\n",
       "      <td>-0.312872</td>\n",
       "      <td>0.448664</td>\n",
       "      <td>-1.012376</td>\n",
       "    </tr>\n",
       "    <tr>\n",
       "      <th>595204</th>\n",
       "      <td>-1.051558</td>\n",
       "      <td>-0.350066</td>\n",
       "      <td>-2.927258</td>\n",
       "      <td>-0.881467</td>\n",
       "      <td>-1.215662</td>\n",
       "      <td>2.175676</td>\n",
       "      <td>1.648401</td>\n",
       "      <td>-0.747736</td>\n",
       "      <td>-1.064474</td>\n",
       "      <td>-0.685629</td>\n",
       "    </tr>\n",
       "    <tr>\n",
       "      <th>595205</th>\n",
       "      <td>-0.844498</td>\n",
       "      <td>2.120855</td>\n",
       "      <td>-0.604988</td>\n",
       "      <td>-1.954161</td>\n",
       "      <td>2.327736</td>\n",
       "      <td>1.380938</td>\n",
       "      <td>-0.148232</td>\n",
       "      <td>-0.695350</td>\n",
       "      <td>-0.404950</td>\n",
       "      <td>0.415779</td>\n",
       "    </tr>\n",
       "    <tr>\n",
       "      <th>595206</th>\n",
       "      <td>2.497417</td>\n",
       "      <td>-2.564411</td>\n",
       "      <td>0.266518</td>\n",
       "      <td>3.373311</td>\n",
       "      <td>-1.225061</td>\n",
       "      <td>0.939326</td>\n",
       "      <td>-0.565906</td>\n",
       "      <td>-3.636939</td>\n",
       "      <td>6.429752</td>\n",
       "      <td>-2.025515</td>\n",
       "    </tr>\n",
       "    <tr>\n",
       "      <th>595207</th>\n",
       "      <td>-1.055184</td>\n",
       "      <td>-2.540528</td>\n",
       "      <td>0.461762</td>\n",
       "      <td>-1.781908</td>\n",
       "      <td>0.585024</td>\n",
       "      <td>-1.041590</td>\n",
       "      <td>-1.308235</td>\n",
       "      <td>0.812404</td>\n",
       "      <td>-0.360016</td>\n",
       "      <td>1.004383</td>\n",
       "    </tr>\n",
       "    <tr>\n",
       "      <th>595208</th>\n",
       "      <td>1.745617</td>\n",
       "      <td>1.134678</td>\n",
       "      <td>0.688350</td>\n",
       "      <td>1.233661</td>\n",
       "      <td>-0.921459</td>\n",
       "      <td>-0.295665</td>\n",
       "      <td>-0.738870</td>\n",
       "      <td>3.335603</td>\n",
       "      <td>-2.846516</td>\n",
       "      <td>-2.671394</td>\n",
       "    </tr>\n",
       "    <tr>\n",
       "      <th>595209</th>\n",
       "      <td>-2.467164</td>\n",
       "      <td>-0.963455</td>\n",
       "      <td>-0.279429</td>\n",
       "      <td>2.699570</td>\n",
       "      <td>0.554429</td>\n",
       "      <td>-0.874157</td>\n",
       "      <td>-0.629849</td>\n",
       "      <td>0.215752</td>\n",
       "      <td>-0.422182</td>\n",
       "      <td>1.315653</td>\n",
       "    </tr>\n",
       "    <tr>\n",
       "      <th>595210</th>\n",
       "      <td>-1.061359</td>\n",
       "      <td>-0.023201</td>\n",
       "      <td>-2.534908</td>\n",
       "      <td>0.001488</td>\n",
       "      <td>0.054349</td>\n",
       "      <td>1.752723</td>\n",
       "      <td>-0.115912</td>\n",
       "      <td>0.031750</td>\n",
       "      <td>1.181698</td>\n",
       "      <td>-1.880686</td>\n",
       "    </tr>\n",
       "    <tr>\n",
       "      <th>595211</th>\n",
       "      <td>0.122556</td>\n",
       "      <td>0.377795</td>\n",
       "      <td>-0.071473</td>\n",
       "      <td>3.149567</td>\n",
       "      <td>-2.455672</td>\n",
       "      <td>-2.695381</td>\n",
       "      <td>0.014203</td>\n",
       "      <td>1.226657</td>\n",
       "      <td>-0.500853</td>\n",
       "      <td>1.537353</td>\n",
       "    </tr>\n",
       "  </tbody>\n",
       "</table>\n",
       "<p>595212 rows × 10 columns</p>\n",
       "</div>"
      ],
      "text/plain": [
       "        principal_component_0  principal_component_1  principal_component_2  \\\n",
       "0       0.728200               0.172518              -0.881308                \n",
       "1      -1.828792              -0.611185              -0.254239                \n",
       "2      -2.377871              -0.364436              -0.756170                \n",
       "3      -1.899396               0.748594               2.103025                \n",
       "4      -2.571529               0.588896              -2.801840                \n",
       "5       3.466936              -2.451428              -1.752773                \n",
       "6      -1.496763              -1.898499               0.525457                \n",
       "7      -0.001749               0.782599               0.152227                \n",
       "8       0.233281              -2.554005              -0.975313                \n",
       "9       6.168378               1.389807              -0.562906                \n",
       "10      3.163615              -2.445844              -0.419530                \n",
       "11      1.439971               0.426515              -1.738819                \n",
       "12     -1.505563              -1.052972              -0.981399                \n",
       "13      1.283613               1.885801              -0.503522                \n",
       "14     -1.711732              -0.567142              -0.350036                \n",
       "15      6.995928              -4.102358               1.696512                \n",
       "16      0.705163               0.373901              -0.781527                \n",
       "17      0.445339               3.679966               0.921182                \n",
       "18     -2.287771              -0.919639              -0.351709                \n",
       "19     -3.889571              -0.235392              -0.826889                \n",
       "20     -2.001995               0.046240              -1.104454                \n",
       "21     -2.946199               0.539969              -1.150041                \n",
       "22      2.145453               0.921438              -0.567669                \n",
       "23     -0.689680              -2.151683               0.642013                \n",
       "24     -0.702051              -2.032439               1.970377                \n",
       "25      1.860742              -5.466269               3.203247                \n",
       "26      2.314336              -1.760110               0.019337                \n",
       "27     -1.223108              -1.983099               0.650127                \n",
       "28      0.971993              -2.170480              -0.910064                \n",
       "29      1.112678              -2.073157              -2.697752                \n",
       "...          ...                    ...                    ...                \n",
       "595182 -1.421781              -1.573541               2.705621                \n",
       "595183 -2.607170              -0.000988              -0.289655                \n",
       "595184 -0.932200              -2.261062               6.599238                \n",
       "595185 -1.337283               4.228086               0.429800                \n",
       "595186 -0.016348               4.111154              -0.563171                \n",
       "595187  1.024977              -3.035452               4.583749                \n",
       "595188 -2.138834              -0.194570              -0.208758                \n",
       "595189 -1.401252               0.191129               1.520855                \n",
       "595190 -3.041662              -1.926421               1.380942                \n",
       "595191 -0.394881              -0.820626              -0.218962                \n",
       "595192 -1.242144               1.324328              -0.964088                \n",
       "595193  3.989743               5.890997               1.741228                \n",
       "595194 -1.230752               1.525347               1.236634                \n",
       "595195  2.114903               3.538532               0.551044                \n",
       "595196 -0.455136              -2.015755               5.918610                \n",
       "595197  2.616276               0.920938              -1.267856                \n",
       "595198  0.049014               1.951480              -1.001671                \n",
       "595199  1.197010               3.085651               0.244844                \n",
       "595200 -2.195547               0.135047              -0.415191                \n",
       "595201 -2.168866               2.152059              -0.548533                \n",
       "595202  0.054216              -0.802363               2.307660                \n",
       "595203  2.378589               4.433112              -1.732016                \n",
       "595204 -1.051558              -0.350066              -2.927258                \n",
       "595205 -0.844498               2.120855              -0.604988                \n",
       "595206  2.497417              -2.564411               0.266518                \n",
       "595207 -1.055184              -2.540528               0.461762                \n",
       "595208  1.745617               1.134678               0.688350                \n",
       "595209 -2.467164              -0.963455              -0.279429                \n",
       "595210 -1.061359              -0.023201              -2.534908                \n",
       "595211  0.122556               0.377795              -0.071473                \n",
       "\n",
       "        principal_component_3  principal_component_4  principal_component_5  \\\n",
       "0      -3.991571              -2.838428               0.651680                \n",
       "1       1.710160               1.077256              -0.209547                \n",
       "2      -0.599926              -0.034807               1.764038                \n",
       "3       0.387801               3.392564              -0.891947                \n",
       "4       0.309698               0.215793               2.062871                \n",
       "5      -1.862898               1.471364               0.373237                \n",
       "6      -3.081754              -0.046300              -0.606075                \n",
       "7       1.266644               1.883270              -1.879793                \n",
       "8      -2.925140               0.585253               0.265738                \n",
       "9       0.820801               1.283742               1.293156                \n",
       "10      2.555561              -0.770956               2.313461                \n",
       "11     -0.400977              -3.217867              -1.771480                \n",
       "12     -0.193437              -0.625512               0.059727                \n",
       "13     -1.213329               1.535327               0.656784                \n",
       "14      0.919830               1.417033               0.416389                \n",
       "15     -1.147533              -3.271644              -3.649551                \n",
       "16     -0.165769              -2.132462               5.252504                \n",
       "17      0.698369              -0.696699              -1.100519                \n",
       "18      2.341374               0.664372              -1.019131                \n",
       "19      1.231192               0.886933               0.316022                \n",
       "20      1.614100               0.558159               0.219380                \n",
       "21      1.116881               0.380355               0.310472                \n",
       "22     -2.363420               1.732647              -0.206296                \n",
       "23     -2.656084              -1.163228              -0.692014                \n",
       "24     -0.770461              -0.748302              -1.473519                \n",
       "25      0.903691              -0.476065              -0.900248                \n",
       "26     -1.802294              -1.991601              -3.047310                \n",
       "27     -2.336117               0.637177              -0.552887                \n",
       "28     -1.776984               0.631570               0.692290                \n",
       "29     -1.710083               2.716882              -1.196696                \n",
       "...          ...                    ...                    ...                \n",
       "595182 -0.989958               0.265050               0.385463                \n",
       "595183  2.075953              -0.202824              -0.438114                \n",
       "595184  4.478762               0.086012               3.603678                \n",
       "595185 -1.583245              -2.697223              -0.421519                \n",
       "595186 -1.348731              -1.646335              -0.762309                \n",
       "595187 -0.472767               0.792218               3.884747                \n",
       "595188  2.232385              -0.893645              -0.540686                \n",
       "595189 -0.470899               2.194687              -2.228948                \n",
       "595190 -1.954039               0.467537               0.212298                \n",
       "595191  1.716084               0.129952              -0.013224                \n",
       "595192  1.286261              -2.975404              -0.323083                \n",
       "595193  0.244095               1.063493               2.095376                \n",
       "595194 -0.557552               0.939153              -1.180033                \n",
       "595195 -2.016150              -2.866570              -2.350579                \n",
       "595196  4.302013               0.288235               4.186765                \n",
       "595197  0.710983              -2.014979               4.793639                \n",
       "595198 -1.609522               1.517148              -0.378903                \n",
       "595199 -0.754868              -2.276134              -1.443813                \n",
       "595200  2.704053              -0.592333              -0.285785                \n",
       "595201 -1.323073               1.845250               0.785150                \n",
       "595202 -0.928383               2.106234              -1.706391                \n",
       "595203 -2.275060              -2.456702               0.328507                \n",
       "595204 -0.881467              -1.215662               2.175676                \n",
       "595205 -1.954161               2.327736               1.380938                \n",
       "595206  3.373311              -1.225061               0.939326                \n",
       "595207 -1.781908               0.585024              -1.041590                \n",
       "595208  1.233661              -0.921459              -0.295665                \n",
       "595209  2.699570               0.554429              -0.874157                \n",
       "595210  0.001488               0.054349               1.752723                \n",
       "595211  3.149567              -2.455672              -2.695381                \n",
       "\n",
       "        principal_component_6  principal_component_7  principal_component_8  \\\n",
       "0       0.118349              -0.292208              -0.335862                \n",
       "1       0.452505              -1.350203               1.130405                \n",
       "2      -1.373202               0.256340               0.497494                \n",
       "3      -0.727411              -0.189039               1.547573                \n",
       "4       1.284384              -0.772547               0.481668                \n",
       "5      -0.515578               0.347843              -0.009560                \n",
       "6      -0.138982              -0.077557               1.315849                \n",
       "7      -0.977290               0.371103               2.339282                \n",
       "8      -0.213619              -0.372002               1.056606                \n",
       "9       0.049594              -1.946781               0.142176                \n",
       "10     -0.295057              -3.470252               5.972256                \n",
       "11      0.508730               0.856604               0.699530                \n",
       "12     -0.158776              -0.006809               1.505622                \n",
       "13     -0.917106              -0.209279               0.193925                \n",
       "14     -1.164266              -0.325970               1.076190                \n",
       "15      2.346442               0.185272              -2.793212                \n",
       "16     -1.229757              -1.704436               1.384583                \n",
       "17     -1.436081               1.378673               1.034746                \n",
       "18     -0.937044               0.426805               0.555958                \n",
       "19      0.356667              -0.548334              -0.807190                \n",
       "20      1.285297              -1.615105               0.475054                \n",
       "21      0.155067               0.274071               1.334834                \n",
       "22      0.094500               0.515727               0.702540                \n",
       "23      0.719266              -0.601572              -0.218352                \n",
       "24      1.415656              -0.851547              -0.422800                \n",
       "25     -0.969671              -1.368455               4.994670                \n",
       "26     -0.060363               1.847369              -1.724126                \n",
       "27     -1.284109               0.865161               1.477865                \n",
       "28      1.990262               0.495997              -0.800706                \n",
       "29      1.237980               1.884559              -1.473712                \n",
       "...          ...                    ...                    ...                \n",
       "595182  0.616898               1.563418              -2.151662                \n",
       "595183 -0.371779               0.152142              -1.001490                \n",
       "595184 -0.033855               0.481832              -1.505924                \n",
       "595185 -0.491232               0.820245              -0.941672                \n",
       "595186 -0.515199               0.102988              -0.090747                \n",
       "595187 -0.824617               1.942760              -2.060677                \n",
       "595188 -0.119622               0.317924              -0.287959                \n",
       "595189 -0.397323              -0.276807               2.095925                \n",
       "595190  0.640083               0.489072              -1.268431                \n",
       "595191 -0.485786              -0.199449              -0.098574                \n",
       "595192  0.650890              -0.159656               0.545394                \n",
       "595193  5.392764               3.584828              -0.550398                \n",
       "595194 -0.863128              -0.564783               2.055442                \n",
       "595195  0.893584              -0.019562               0.427130                \n",
       "595196  0.182878               0.274087              -1.737433                \n",
       "595197 -2.736323              -2.149265               1.547089                \n",
       "595198 -2.345964               0.425423               2.093297                \n",
       "595199 -1.956430               1.415324               1.681525                \n",
       "595200  0.913592               0.058987               1.085418                \n",
       "595201  0.347799              -0.673469               1.658913                \n",
       "595202 -0.329080              -0.095291               1.805235                \n",
       "595203  0.252424              -0.312872               0.448664                \n",
       "595204  1.648401              -0.747736              -1.064474                \n",
       "595205 -0.148232              -0.695350              -0.404950                \n",
       "595206 -0.565906              -3.636939               6.429752                \n",
       "595207 -1.308235               0.812404              -0.360016                \n",
       "595208 -0.738870               3.335603              -2.846516                \n",
       "595209 -0.629849               0.215752              -0.422182                \n",
       "595210 -0.115912               0.031750               1.181698                \n",
       "595211  0.014203               1.226657              -0.500853                \n",
       "\n",
       "        principal_component_9  \n",
       "0      -2.087046               \n",
       "1      -1.514715               \n",
       "2       0.871727               \n",
       "3       0.441941               \n",
       "4       0.076281               \n",
       "5      -0.725201               \n",
       "6      -0.604759               \n",
       "7      -0.695249               \n",
       "8       0.590353               \n",
       "9       1.158548               \n",
       "10     -2.422766               \n",
       "11     -2.053552               \n",
       "12     -1.088176               \n",
       "13      0.982743               \n",
       "14     -2.115189               \n",
       "15      0.864992               \n",
       "16      3.929242               \n",
       "17     -1.202349               \n",
       "18      2.695368               \n",
       "19      1.175443               \n",
       "20      0.179606               \n",
       "21     -0.991061               \n",
       "22      0.760013               \n",
       "23      2.082643               \n",
       "24      0.772062               \n",
       "25     -1.050859               \n",
       "26     -0.129106               \n",
       "27     -1.729962               \n",
       "28     -0.108640               \n",
       "29     -1.438467               \n",
       "...          ...               \n",
       "595182 -0.565855               \n",
       "595183  0.971577               \n",
       "595184 -3.400863               \n",
       "595185  0.081147               \n",
       "595186  1.592363               \n",
       "595187 -1.815099               \n",
       "595188  1.803306               \n",
       "595189 -0.319487               \n",
       "595190  0.499656               \n",
       "595191  1.370638               \n",
       "595192  0.321864               \n",
       "595193 -2.435891               \n",
       "595194  0.035674               \n",
       "595195 -2.800448               \n",
       "595196 -3.983409               \n",
       "595197  4.504840               \n",
       "595198 -1.269126               \n",
       "595199 -2.029818               \n",
       "595200  0.727309               \n",
       "595201 -1.359796               \n",
       "595202 -0.462633               \n",
       "595203 -1.012376               \n",
       "595204 -0.685629               \n",
       "595205  0.415779               \n",
       "595206 -2.025515               \n",
       "595207  1.004383               \n",
       "595208 -2.671394               \n",
       "595209  1.315653               \n",
       "595210 -1.880686               \n",
       "595211  1.537353               \n",
       "\n",
       "[595212 rows x 10 columns]"
      ]
     },
     "execution_count": 248,
     "metadata": {},
     "output_type": "execute_result"
    }
   ],
   "source": [
    "principalDf"
   ]
  },
  {
   "cell_type": "code",
   "execution_count": null,
   "metadata": {
    "collapsed": true
   },
   "outputs": [],
   "source": []
  }
 ],
 "metadata": {
  "kernelspec": {
   "display_name": "Python 3",
   "language": "python",
   "name": "python3"
  },
  "language_info": {
   "codemirror_mode": {
    "name": "ipython",
    "version": 3
   },
   "file_extension": ".py",
   "mimetype": "text/x-python",
   "name": "python",
   "nbconvert_exporter": "python",
   "pygments_lexer": "ipython3",
   "version": "3.6.2"
  },
  "toc": {
   "base_numbering": 1,
   "nav_menu": {},
   "number_sections": true,
   "sideBar": true,
   "skip_h1_title": false,
   "title_cell": "Table of Contents",
   "title_sidebar": "Contents",
   "toc_cell": false,
   "toc_position": {},
   "toc_section_display": true,
   "toc_window_display": false
  }
 },
 "nbformat": 4,
 "nbformat_minor": 2
}
